{
 "cells": [
  {
   "cell_type": "code",
   "execution_count": 5,
   "metadata": {},
   "outputs": [],
   "source": [
    "import numpy as np\n",
    "import pandas as pd\n",
    "import matplotlib, re\n",
    "import matplotlib.pyplot as plt\n",
    "from sklearn.feature_extraction.text import CountVectorizer \n",
    "from collections import Counter\n",
    "import nltk\n",
    "from nltk.corpus import stopwords\n",
    "from wordcloud import WordCloud, STOPWORDS, ImageColorGenerator\n",
    "import spacy\n",
    "from sklearn.feature_extraction.text import TfidfVectorizer\n",
    "from sklearn.feature_extraction.text import TfidfTransformer\n",
    "from sklearn.feature_extraction.text import CountVectorizer\n",
    "from sklearn.model_selection import train_test_split\n",
    "from textblob import TextBlob\n",
    "from sklearn.ensemble import RandomForestClassifier\n",
    "from sklearn.metrics import classification_report, accuracy_score\n",
    "from nltk.stem.porter import PorterStemmer \n",
    "from sklearn.feature_extraction.text import TfidfVectorizer\n",
    "from nltk.stem import WordNetLemmatizer\n",
    "nltk.download(\"wordnet\")"
   ]
  },
  {
   "cell_type": "markdown",
   "metadata": {},
   "source": [
    "## Import and clean the data"
   ]
  },
  {
   "cell_type": "code",
   "execution_count": null,
   "metadata": {},
   "outputs": [],
   "source": [
    "tweets = pd.read_csv(\"vaccination_all_tweets.csv\")\n",
    "tweets = tweets.dropna(axis=0) \n",
    "stop = ['i', 'me', 'my', 'myself', 'we', 'our', 'ours',\n",
    "        'ourselves', 'you', \"you're\", \"you've\", \"you'll\", \n",
    "        \"you'd\", 'your', 'yours', 'yourself', 'yourselves',\n",
    "        'he', 'him', 'his', 'himself', 'she', \"she's\", 'her',\n",
    "        'hers', 'herself', 'it', \"it's\", 'its', 'itself', 'they',\n",
    "        'them', 'their', 'theirs', 'themselves', 'what', 'which', \n",
    "        'who', 'whom', 'this', 'that', \"that'll\", 'these', 'those',\n",
    "        'a', 'an', 'the', 'and', 'if', 'or', 'because', 'as', \n",
    "        'until', 'while', 'of', 'at', 'by', 'for', 'with', 'about', \n",
    "        'between', 'into', 'through', 'during', 'before', \n",
    "        'after', 'above', 'below', 'to', 'from', 'up', 'down', 'in', \n",
    "        'out', 'on', 'off', 'over', 'under', 'again', 'further', 'then', \n",
    "        'once', 'here', 'there', 'when', 'where', 'why', 'how', 'all', \n",
    "        'any', 'both', 'each', 'few', 'more', 'most', 'other', 'some', \n",
    "        'such', 'only', 'own', 'same', 'so', 'than', \n",
    "        'too', 'very', 's', 't', 'just',  'now', 'd', 'll', 'm', 'o', 're', 've', 'y']\n",
    "\n",
    "def remove_stop_words(text):\n",
    "    stop = stopwords.words(\"english\")\n",
    "    return [word for word in text if word not in stop]\n",
    "\n",
    "porter = PorterStemmer()\n",
    "def tokenizer_porter(text):\n",
    "    return [porter.stem(word) for word in text.split()]\n",
    "\n",
    "def lem(words):\n",
    "    lem_list = []\n",
    "    lemmatizer = WordNetLemmatizer()\n",
    "    for word in words:\n",
    "        lem_list.append(lemmatizer.lemmatize(word))\n",
    "    return lem_list\n",
    "\n",
    "def clean_text(text):\n",
    "#     text = str.lower(text) #lower case\n",
    "    text = re.sub(r\"http\\S+\", \"\", text) #rm websites\n",
    "    text = re.sub(r\"\\s+[a-zA-Z]\\s+\", \" \", text) # rm single characters \n",
    "    text = re.sub(r\"\\s\\s+\",\"\", text) # rm multiple spaces\n",
    "    text = re.sub(r\"#\",\"\", text) # rm hashtags\n",
    "    text = re.sub(r\"[(,?!)]\",\"\", text) # rm special characters \n",
    "    text = re.sub(\"@[^\\s]+\", \"\", text) # rm @twitter_id\n",
    "#     text = remove_emoji(text) # rm emoji\n",
    "    #text = re.sub(\"<[^>]*>\", \"\", text) # rm HTML markup\n",
    "    emoticons = re.findall(\"(?::|;|=)(?:-)?(?:\\)|\\(|D|P)\", text)\n",
    "    text = (re.sub(\"[\\W]+\", \" \", text.lower()) + \" \".join(emoticons).replace(\"-\", \"\")).strip()\n",
    "    \n",
    "   \n",
    "    return text\n",
    "\n",
    "tweets[\"text\"] = tweets[\"text\"].apply(lambda x: clean_text(x))\n",
    "tweets[\"stemmed\"] = tweets[\"text\"].apply(lambda x: tokenizer_porter(x))\n",
    "tweets[\"stop_removed\"] = tweets[\"stemmed\"].apply(lambda x: remove_stop_words(x))\n",
    "tweets[\"lemmatized\"] = tweets[\"stop_removed\"].apply(lambda x: lem(x))\n",
    "\n",
    "tweets.head()"
   ]
  },
  {
   "cell_type": "markdown",
   "metadata": {},
   "source": [
    "## Vectorize\n",
    "### CountVectorizer contstructs a bag-of-words model "
   ]
  },
  {
   "cell_type": "code",
   "execution_count": 4,
   "metadata": {},
   "outputs": [],
   "source": [
    "count = CountVectorizer()\n",
    "docs = np.array(tweets[\"text\"])\n",
    "bag = count.fit_transform(docs)"
   ]
  },
  {
   "cell_type": "markdown",
   "metadata": {},
   "source": [
    "## Td-idf"
   ]
  },
  {
   "cell_type": "code",
   "execution_count": 6,
   "metadata": {},
   "outputs": [],
   "source": [
    "tfidf = TfidfVectorizer(preprocessor=\"\".join,\n",
    "                         use_idf=True, \n",
    "                         norm = \"l2\",\n",
    "                         smooth_idf=True)\n",
    "np.set_printoptions(precision=2)\n",
    "tfidf_vectors = tfidf.fit_transform(docs)"
   ]
  },
  {
   "cell_type": "code",
   "execution_count": null,
   "metadata": {},
   "outputs": [],
   "source": []
  }
 ],
 "metadata": {
  "kernelspec": {
   "display_name": "Python 3",
   "language": "python",
   "name": "python3"
  },
  "language_info": {
   "codemirror_mode": {
    "name": "ipython",
    "version": 3
   },
   "file_extension": ".py",
   "mimetype": "text/x-python",
   "name": "python",
   "nbconvert_exporter": "python",
   "pygments_lexer": "ipython3",
   "version": "3.8.5"
  }
 },
 "nbformat": 4,
 "nbformat_minor": 4
}
