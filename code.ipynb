{
 "cells": [
  {
   "cell_type": "code",
   "execution_count": 1,
   "metadata": {},
   "outputs": [
    {
     "name": "stderr",
     "output_type": "stream",
     "text": [
      "[nltk_data] Downloading package stopwords to\n",
      "[nltk_data]     C:\\Users\\yutao\\AppData\\Roaming\\nltk_data...\n",
      "[nltk_data]   Package stopwords is already up-to-date!\n"
     ]
    }
   ],
   "source": [
    "import numpy as np\n",
    "import pandas as pd\n",
    "import matplotlib.pyplot as plt\n",
    "import seaborn as sns\n",
    "import re\n",
    "import nltk\n",
    "nltk.download('stopwords')\n",
    "from nltk.corpus import stopwords\n",
    "from textblob import TextBlob\n",
    "from wordcloud import WordCloud\n",
    "from sklearn.feature_extraction.text import CountVectorizer\n",
    "from wordcloud import WordCloud\n",
    "from nltk.stem import WordNetLemmatizer\n",
    "# sklearn\n",
    "from sklearn.svm import LinearSVC\n",
    "from sklearn.naive_bayes import BernoulliNB\n",
    "from sklearn.linear_model import LogisticRegression\n",
    "from sklearn.model_selection import train_test_split\n",
    "from sklearn.feature_extraction.text import TfidfVectorizer\n",
    "from sklearn.metrics import confusion_matrix, classification_report"
   ]
  },
  {
   "cell_type": "code",
   "execution_count": 2,
   "metadata": {},
   "outputs": [
    {
     "data": {
      "text/html": [
       "<div>\n",
       "<style scoped>\n",
       "    .dataframe tbody tr th:only-of-type {\n",
       "        vertical-align: middle;\n",
       "    }\n",
       "\n",
       "    .dataframe tbody tr th {\n",
       "        vertical-align: top;\n",
       "    }\n",
       "\n",
       "    .dataframe thead th {\n",
       "        text-align: right;\n",
       "    }\n",
       "</style>\n",
       "<table border=\"1\" class=\"dataframe\">\n",
       "  <thead>\n",
       "    <tr style=\"text-align: right;\">\n",
       "      <th></th>\n",
       "      <th>id</th>\n",
       "      <th>user_name</th>\n",
       "      <th>user_location</th>\n",
       "      <th>user_description</th>\n",
       "      <th>user_created</th>\n",
       "      <th>user_followers</th>\n",
       "      <th>user_friends</th>\n",
       "      <th>user_favourites</th>\n",
       "      <th>user_verified</th>\n",
       "      <th>date</th>\n",
       "      <th>text</th>\n",
       "      <th>hashtags</th>\n",
       "      <th>source</th>\n",
       "      <th>retweets</th>\n",
       "      <th>favorites</th>\n",
       "      <th>is_retweet</th>\n",
       "    </tr>\n",
       "  </thead>\n",
       "  <tbody>\n",
       "    <tr>\n",
       "      <th>0</th>\n",
       "      <td>1340539111971516416</td>\n",
       "      <td>Rachel Roh</td>\n",
       "      <td>La Crescenta-Montrose, CA</td>\n",
       "      <td>Aggregator of Asian American news; scanning di...</td>\n",
       "      <td>2009-04-08 17:52:46</td>\n",
       "      <td>405</td>\n",
       "      <td>1692</td>\n",
       "      <td>3247</td>\n",
       "      <td>False</td>\n",
       "      <td>2020-12-20 06:06:44</td>\n",
       "      <td>Same folks said daikon paste could treat a cyt...</td>\n",
       "      <td>['PfizerBioNTech']</td>\n",
       "      <td>Twitter for Android</td>\n",
       "      <td>0</td>\n",
       "      <td>0</td>\n",
       "      <td>False</td>\n",
       "    </tr>\n",
       "    <tr>\n",
       "      <th>2</th>\n",
       "      <td>1337858199140118533</td>\n",
       "      <td>eli🇱🇹🇪🇺👌</td>\n",
       "      <td>Your Bed</td>\n",
       "      <td>heil, hydra 🖐☺</td>\n",
       "      <td>2020-06-25 23:30:28</td>\n",
       "      <td>10</td>\n",
       "      <td>88</td>\n",
       "      <td>155</td>\n",
       "      <td>False</td>\n",
       "      <td>2020-12-12 20:33:45</td>\n",
       "      <td>#coronavirus #SputnikV #AstraZeneca #PfizerBio...</td>\n",
       "      <td>['coronavirus', 'SputnikV', 'AstraZeneca', 'Pf...</td>\n",
       "      <td>Twitter for Android</td>\n",
       "      <td>0</td>\n",
       "      <td>0</td>\n",
       "      <td>False</td>\n",
       "    </tr>\n",
       "    <tr>\n",
       "      <th>6</th>\n",
       "      <td>1337851215875608579</td>\n",
       "      <td>Gunther Fehlinger</td>\n",
       "      <td>Austria, Ukraine and Kosovo</td>\n",
       "      <td>End North Stream 2 now - the pipeline of corru...</td>\n",
       "      <td>2013-06-10 17:49:22</td>\n",
       "      <td>2731</td>\n",
       "      <td>5001</td>\n",
       "      <td>69344</td>\n",
       "      <td>False</td>\n",
       "      <td>2020-12-12 20:06:00</td>\n",
       "      <td>it is a bit sad to claim the fame for success ...</td>\n",
       "      <td>['vaccination']</td>\n",
       "      <td>Twitter Web App</td>\n",
       "      <td>0</td>\n",
       "      <td>4</td>\n",
       "      <td>False</td>\n",
       "    </tr>\n",
       "    <tr>\n",
       "      <th>9</th>\n",
       "      <td>1337842295857623042</td>\n",
       "      <td>Ch.Amjad Ali</td>\n",
       "      <td>Islamabad</td>\n",
       "      <td>#ProudPakistani #LovePakArmy #PMIK @insafiansp...</td>\n",
       "      <td>2012-11-12 04:18:12</td>\n",
       "      <td>671</td>\n",
       "      <td>2368</td>\n",
       "      <td>20469</td>\n",
       "      <td>False</td>\n",
       "      <td>2020-12-12 19:30:33</td>\n",
       "      <td>#CovidVaccine \\n\\nStates will start getting #C...</td>\n",
       "      <td>['CovidVaccine', 'COVID19Vaccine', 'US', 'paku...</td>\n",
       "      <td>Twitter Web App</td>\n",
       "      <td>0</td>\n",
       "      <td>0</td>\n",
       "      <td>False</td>\n",
       "    </tr>\n",
       "    <tr>\n",
       "      <th>10</th>\n",
       "      <td>1337841934170255365</td>\n",
       "      <td>Tamer Yazar</td>\n",
       "      <td>Turkey-Israel</td>\n",
       "      <td>Im Market Analyst, also Editor... working (fre...</td>\n",
       "      <td>2009-09-17 16:45:16</td>\n",
       "      <td>1302</td>\n",
       "      <td>78</td>\n",
       "      <td>339</td>\n",
       "      <td>False</td>\n",
       "      <td>2020-12-12 19:29:07</td>\n",
       "      <td>while deaths are closing in on the 300,000 mar...</td>\n",
       "      <td>['PfizerBioNTech', 'Vaccine']</td>\n",
       "      <td>Twitter Web App</td>\n",
       "      <td>0</td>\n",
       "      <td>0</td>\n",
       "      <td>False</td>\n",
       "    </tr>\n",
       "  </tbody>\n",
       "</table>\n",
       "</div>"
      ],
      "text/plain": [
       "                     id          user_name                user_location  \\\n",
       "0   1340539111971516416         Rachel Roh    La Crescenta-Montrose, CA   \n",
       "2   1337858199140118533           eli🇱🇹🇪🇺👌                     Your Bed   \n",
       "6   1337851215875608579  Gunther Fehlinger  Austria, Ukraine and Kosovo   \n",
       "9   1337842295857623042       Ch.Amjad Ali                    Islamabad   \n",
       "10  1337841934170255365        Tamer Yazar                Turkey-Israel   \n",
       "\n",
       "                                     user_description         user_created  \\\n",
       "0   Aggregator of Asian American news; scanning di...  2009-04-08 17:52:46   \n",
       "2                                      heil, hydra 🖐☺  2020-06-25 23:30:28   \n",
       "6   End North Stream 2 now - the pipeline of corru...  2013-06-10 17:49:22   \n",
       "9   #ProudPakistani #LovePakArmy #PMIK @insafiansp...  2012-11-12 04:18:12   \n",
       "10  Im Market Analyst, also Editor... working (fre...  2009-09-17 16:45:16   \n",
       "\n",
       "    user_followers  user_friends  user_favourites  user_verified  \\\n",
       "0              405          1692             3247          False   \n",
       "2               10            88              155          False   \n",
       "6             2731          5001            69344          False   \n",
       "9              671          2368            20469          False   \n",
       "10            1302            78              339          False   \n",
       "\n",
       "                   date                                               text  \\\n",
       "0   2020-12-20 06:06:44  Same folks said daikon paste could treat a cyt...   \n",
       "2   2020-12-12 20:33:45  #coronavirus #SputnikV #AstraZeneca #PfizerBio...   \n",
       "6   2020-12-12 20:06:00  it is a bit sad to claim the fame for success ...   \n",
       "9   2020-12-12 19:30:33  #CovidVaccine \\n\\nStates will start getting #C...   \n",
       "10  2020-12-12 19:29:07  while deaths are closing in on the 300,000 mar...   \n",
       "\n",
       "                                             hashtags               source  \\\n",
       "0                                  ['PfizerBioNTech']  Twitter for Android   \n",
       "2   ['coronavirus', 'SputnikV', 'AstraZeneca', 'Pf...  Twitter for Android   \n",
       "6                                     ['vaccination']      Twitter Web App   \n",
       "9   ['CovidVaccine', 'COVID19Vaccine', 'US', 'paku...      Twitter Web App   \n",
       "10                      ['PfizerBioNTech', 'Vaccine']      Twitter Web App   \n",
       "\n",
       "    retweets  favorites  is_retweet  \n",
       "0          0          0       False  \n",
       "2          0          0       False  \n",
       "6          0          4       False  \n",
       "9          0          0       False  \n",
       "10         0          0       False  "
      ]
     },
     "execution_count": 2,
     "metadata": {},
     "output_type": "execute_result"
    }
   ],
   "source": [
    "tweets = pd.read_csv(\"vaccination_all_tweets.csv\")\n",
    "tweets = tweets.dropna(axis=0) # TODO: discuss\n",
    "tweets.head()"
   ]
  },
  {
   "cell_type": "code",
   "execution_count": 3,
   "metadata": {},
   "outputs": [
    {
     "data": {
      "text/plain": [
       "0        same folks said daikon paste could treat cytok...\n",
       "2        coronavirus sputnikv astrazeneca pfizerbiontec...\n",
       "6        it is bit sad to claim the fame for success of...\n",
       "9        covidvaccinestates will start getting covid19v...\n",
       "10       while deaths are closing in on the 300000 mark...\n",
       "                               ...                        \n",
       "33708    zakharova russia has offered foreign embassy s...\n",
       "33712    breakingthe information attack targeting sputn...\n",
       "33713    pity as my personal preference would have been...\n",
       "33714    who in close contact with russia on sputnikv c...\n",
       "33716    breakingus targets europe in smear campaign ag...\n",
       "Name: text, Length: 19616, dtype: object"
      ]
     },
     "execution_count": 3,
     "metadata": {},
     "output_type": "execute_result"
    }
   ],
   "source": [
    "def remove_emoji(text):\n",
    "    emoji_pattern = re.compile(\"[\"\n",
    "                               u\"\\U0001F600-\\U0001F64F\"  # emoticons\n",
    "                               u\"\\U0001F300-\\U0001F5FF\"  # symbols & pictographs\n",
    "                               u\"\\U0001F680-\\U0001F6FF\"  # transport & map symbols\n",
    "                               u\"\\U0001F1E0-\\U0001F1FF\"  # flags (iOS)\n",
    "                               u\"\\U00002500-\\U00002BEF\"  # chinese char\n",
    "                               u\"\\U00002702-\\U000027B0\"\n",
    "                               u\"\\U00002702-\\U000027B0\"\n",
    "                               u\"\\U000024C2-\\U0001F251\"\n",
    "                               u\"\\U0001f926-\\U0001f937\"\n",
    "                               u\"\\U00010000-\\U0010ffff\"\n",
    "                               u\"\\u2640-\\u2642\"\n",
    "                               u\"\\u2600-\\u2B55\"\n",
    "                               u\"\\u200d\"\n",
    "                               u\"\\u23cf\"\n",
    "                               u\"\\u23e9\"\n",
    "                               u\"\\u231a\"\n",
    "                               u\"\\ufe0f\"  # dingbats\n",
    "                               u\"\\u3030\"\n",
    "                               \"]+\", flags=re.UNICODE)\n",
    "    return emoji_pattern.sub(r'', text)\n",
    "\n",
    "\n",
    "def tokenizer(text):\n",
    "    return text.split()\n",
    "\n",
    "tweets = pd.read_csv(\"vaccination_all_tweets.csv\")\n",
    "tweets = tweets.dropna(axis=0) # TODO: discuss\n",
    "original_text = tweets[\"text\"].copy(deep=True)\n",
    "original_text.iloc[6]\n",
    "\n",
    "# clean text d\n",
    "def clean_text(text):\n",
    "    text = re.sub(r\"http\\S+\", \"\", text) #rm websites\n",
    "    text = re.sub(r\"\\s+[a-zA-Z]\\s+\", \" \", text) # rm single characters \n",
    "    text = re.sub(r\"\\s\\s+\",\"\", text) # rm multiple spaces\n",
    "    text = re.sub(r\"#\",\"\", text) # rm hashtags\n",
    "    text = re.sub(r\"[(,?!)]\",\"\", text) # rm special characters \n",
    "    text = re.sub(\"@[^\\s]+\", \"\", text) # rm @twitter_id\n",
    "    emoticons = re.findall(\"(?::|;|=)(?:-)?(?:\\)|\\(|D|P)\", text)\n",
    "    text = (re.sub(\"[\\W]+\", \" \", text.lower()) + \" \".join(emoticons).replace(\"-\", \"\")).strip()\n",
    "    return text\n",
    "\n",
    "tweets[\"text\"] = tweets[\"text\"].apply(lambda x: clean_text(x))\n",
    "tweets[\"text\"]"
   ]
  },
  {
   "cell_type": "code",
   "execution_count": 4,
   "metadata": {},
   "outputs": [
    {
     "name": "stderr",
     "output_type": "stream",
     "text": [
      "[nltk_data] Downloading package stopwords to\n",
      "[nltk_data]     C:\\Users\\yutao\\AppData\\Roaming\\nltk_data...\n",
      "[nltk_data]   Package stopwords is already up-to-date!\n",
      "[nltk_data] Downloading package stopwords to\n",
      "[nltk_data]     C:\\Users\\yutao\\AppData\\Roaming\\nltk_data...\n",
      "[nltk_data]   Package stopwords is already up-to-date!\n"
     ]
    },
    {
     "data": {
      "text/html": [
       "<div>\n",
       "<style scoped>\n",
       "    .dataframe tbody tr th:only-of-type {\n",
       "        vertical-align: middle;\n",
       "    }\n",
       "\n",
       "    .dataframe tbody tr th {\n",
       "        vertical-align: top;\n",
       "    }\n",
       "\n",
       "    .dataframe thead th {\n",
       "        text-align: right;\n",
       "    }\n",
       "</style>\n",
       "<table border=\"1\" class=\"dataframe\">\n",
       "  <thead>\n",
       "    <tr style=\"text-align: right;\">\n",
       "      <th></th>\n",
       "      <th>id</th>\n",
       "      <th>user_name</th>\n",
       "      <th>user_location</th>\n",
       "      <th>user_description</th>\n",
       "      <th>user_created</th>\n",
       "      <th>user_followers</th>\n",
       "      <th>user_friends</th>\n",
       "      <th>user_favourites</th>\n",
       "      <th>user_verified</th>\n",
       "      <th>date</th>\n",
       "      <th>text</th>\n",
       "      <th>hashtags</th>\n",
       "      <th>source</th>\n",
       "      <th>retweets</th>\n",
       "      <th>favorites</th>\n",
       "      <th>is_retweet</th>\n",
       "      <th>stemmed</th>\n",
       "      <th>stop_removed</th>\n",
       "    </tr>\n",
       "  </thead>\n",
       "  <tbody>\n",
       "    <tr>\n",
       "      <th>0</th>\n",
       "      <td>1340539111971516416</td>\n",
       "      <td>Rachel Roh</td>\n",
       "      <td>La Crescenta-Montrose, CA</td>\n",
       "      <td>Aggregator of Asian American news; scanning di...</td>\n",
       "      <td>2009-04-08 17:52:46</td>\n",
       "      <td>405</td>\n",
       "      <td>1692</td>\n",
       "      <td>3247</td>\n",
       "      <td>False</td>\n",
       "      <td>2020-12-20 06:06:44</td>\n",
       "      <td>same folks said daikon paste could treat cytok...</td>\n",
       "      <td>['PfizerBioNTech']</td>\n",
       "      <td>Twitter for Android</td>\n",
       "      <td>0</td>\n",
       "      <td>0</td>\n",
       "      <td>False</td>\n",
       "      <td>[same, folk, said, daikon, past, could, treat,...</td>\n",
       "      <td>same folk said daikon past could treat cytokin...</td>\n",
       "    </tr>\n",
       "    <tr>\n",
       "      <th>2</th>\n",
       "      <td>1337858199140118533</td>\n",
       "      <td>eli🇱🇹🇪🇺👌</td>\n",
       "      <td>Your Bed</td>\n",
       "      <td>heil, hydra 🖐☺</td>\n",
       "      <td>2020-06-25 23:30:28</td>\n",
       "      <td>10</td>\n",
       "      <td>88</td>\n",
       "      <td>155</td>\n",
       "      <td>False</td>\n",
       "      <td>2020-12-12 20:33:45</td>\n",
       "      <td>coronavirus sputnikv astrazeneca pfizerbiontec...</td>\n",
       "      <td>['coronavirus', 'SputnikV', 'AstraZeneca', 'Pf...</td>\n",
       "      <td>Twitter for Android</td>\n",
       "      <td>0</td>\n",
       "      <td>0</td>\n",
       "      <td>False</td>\n",
       "      <td>[coronaviru, sputnikv, astrazeneca, pfizerbion...</td>\n",
       "      <td>coronaviru sputnikv astrazeneca pfizerbiontech...</td>\n",
       "    </tr>\n",
       "    <tr>\n",
       "      <th>6</th>\n",
       "      <td>1337851215875608579</td>\n",
       "      <td>Gunther Fehlinger</td>\n",
       "      <td>Austria, Ukraine and Kosovo</td>\n",
       "      <td>End North Stream 2 now - the pipeline of corru...</td>\n",
       "      <td>2013-06-10 17:49:22</td>\n",
       "      <td>2731</td>\n",
       "      <td>5001</td>\n",
       "      <td>69344</td>\n",
       "      <td>False</td>\n",
       "      <td>2020-12-12 20:06:00</td>\n",
       "      <td>it is bit sad to claim the fame for success of...</td>\n",
       "      <td>['vaccination']</td>\n",
       "      <td>Twitter Web App</td>\n",
       "      <td>0</td>\n",
       "      <td>4</td>\n",
       "      <td>False</td>\n",
       "      <td>[it, is, bit, sad, to, claim, the, fame, for, ...</td>\n",
       "      <td>it is bit sad to claim the fame for success of...</td>\n",
       "    </tr>\n",
       "    <tr>\n",
       "      <th>9</th>\n",
       "      <td>1337842295857623042</td>\n",
       "      <td>Ch.Amjad Ali</td>\n",
       "      <td>Islamabad</td>\n",
       "      <td>#ProudPakistani #LovePakArmy #PMIK @insafiansp...</td>\n",
       "      <td>2012-11-12 04:18:12</td>\n",
       "      <td>671</td>\n",
       "      <td>2368</td>\n",
       "      <td>20469</td>\n",
       "      <td>False</td>\n",
       "      <td>2020-12-12 19:30:33</td>\n",
       "      <td>covidvaccinestates will start getting covid19v...</td>\n",
       "      <td>['CovidVaccine', 'COVID19Vaccine', 'US', 'paku...</td>\n",
       "      <td>Twitter Web App</td>\n",
       "      <td>0</td>\n",
       "      <td>0</td>\n",
       "      <td>False</td>\n",
       "      <td>[covidvaccinest, will, start, get, covid19vacc...</td>\n",
       "      <td>covidvaccinest will start get covid19vaccin mo...</td>\n",
       "    </tr>\n",
       "    <tr>\n",
       "      <th>10</th>\n",
       "      <td>1337841934170255365</td>\n",
       "      <td>Tamer Yazar</td>\n",
       "      <td>Turkey-Israel</td>\n",
       "      <td>Im Market Analyst, also Editor... working (fre...</td>\n",
       "      <td>2009-09-17 16:45:16</td>\n",
       "      <td>1302</td>\n",
       "      <td>78</td>\n",
       "      <td>339</td>\n",
       "      <td>False</td>\n",
       "      <td>2020-12-12 19:29:07</td>\n",
       "      <td>while deaths are closing in on the 300000 mark...</td>\n",
       "      <td>['PfizerBioNTech', 'Vaccine']</td>\n",
       "      <td>Twitter Web App</td>\n",
       "      <td>0</td>\n",
       "      <td>0</td>\n",
       "      <td>False</td>\n",
       "      <td>[while, death, are, close, in, on, the, 300000...</td>\n",
       "      <td>while death are close in on the 300000 mark mi...</td>\n",
       "    </tr>\n",
       "  </tbody>\n",
       "</table>\n",
       "</div>"
      ],
      "text/plain": [
       "                     id          user_name                user_location  \\\n",
       "0   1340539111971516416         Rachel Roh    La Crescenta-Montrose, CA   \n",
       "2   1337858199140118533           eli🇱🇹🇪🇺👌                     Your Bed   \n",
       "6   1337851215875608579  Gunther Fehlinger  Austria, Ukraine and Kosovo   \n",
       "9   1337842295857623042       Ch.Amjad Ali                    Islamabad   \n",
       "10  1337841934170255365        Tamer Yazar                Turkey-Israel   \n",
       "\n",
       "                                     user_description         user_created  \\\n",
       "0   Aggregator of Asian American news; scanning di...  2009-04-08 17:52:46   \n",
       "2                                      heil, hydra 🖐☺  2020-06-25 23:30:28   \n",
       "6   End North Stream 2 now - the pipeline of corru...  2013-06-10 17:49:22   \n",
       "9   #ProudPakistani #LovePakArmy #PMIK @insafiansp...  2012-11-12 04:18:12   \n",
       "10  Im Market Analyst, also Editor... working (fre...  2009-09-17 16:45:16   \n",
       "\n",
       "    user_followers  user_friends  user_favourites  user_verified  \\\n",
       "0              405          1692             3247          False   \n",
       "2               10            88              155          False   \n",
       "6             2731          5001            69344          False   \n",
       "9              671          2368            20469          False   \n",
       "10            1302            78              339          False   \n",
       "\n",
       "                   date                                               text  \\\n",
       "0   2020-12-20 06:06:44  same folks said daikon paste could treat cytok...   \n",
       "2   2020-12-12 20:33:45  coronavirus sputnikv astrazeneca pfizerbiontec...   \n",
       "6   2020-12-12 20:06:00  it is bit sad to claim the fame for success of...   \n",
       "9   2020-12-12 19:30:33  covidvaccinestates will start getting covid19v...   \n",
       "10  2020-12-12 19:29:07  while deaths are closing in on the 300000 mark...   \n",
       "\n",
       "                                             hashtags               source  \\\n",
       "0                                  ['PfizerBioNTech']  Twitter for Android   \n",
       "2   ['coronavirus', 'SputnikV', 'AstraZeneca', 'Pf...  Twitter for Android   \n",
       "6                                     ['vaccination']      Twitter Web App   \n",
       "9   ['CovidVaccine', 'COVID19Vaccine', 'US', 'paku...      Twitter Web App   \n",
       "10                      ['PfizerBioNTech', 'Vaccine']      Twitter Web App   \n",
       "\n",
       "    retweets  favorites  is_retweet  \\\n",
       "0          0          0       False   \n",
       "2          0          0       False   \n",
       "6          0          4       False   \n",
       "9          0          0       False   \n",
       "10         0          0       False   \n",
       "\n",
       "                                              stemmed  \\\n",
       "0   [same, folk, said, daikon, past, could, treat,...   \n",
       "2   [coronaviru, sputnikv, astrazeneca, pfizerbion...   \n",
       "6   [it, is, bit, sad, to, claim, the, fame, for, ...   \n",
       "9   [covidvaccinest, will, start, get, covid19vacc...   \n",
       "10  [while, death, are, close, in, on, the, 300000...   \n",
       "\n",
       "                                         stop_removed  \n",
       "0   same folk said daikon past could treat cytokin...  \n",
       "2   coronaviru sputnikv astrazeneca pfizerbiontech...  \n",
       "6   it is bit sad to claim the fame for success of...  \n",
       "9   covidvaccinest will start get covid19vaccin mo...  \n",
       "10  while death are close in on the 300000 mark mi...  "
      ]
     },
     "execution_count": 4,
     "metadata": {},
     "output_type": "execute_result"
    }
   ],
   "source": [
    "# tweets_data.head(2)\n",
    "count = CountVectorizer()\n",
    "docs = np.array(tweets[\"text\"])\n",
    "bag = count.fit_transform(docs)\n",
    "np.array(tweets[\"text\"])\n",
    "\n",
    "from sklearn.feature_extraction.text import TfidfVectorizer\n",
    "from nltk.stem.porter import PorterStemmer \n",
    "\n",
    "def identify_tokenizer(text):\n",
    "    return text\n",
    "\n",
    "#lower idf value, less unique the word is to a particular text\n",
    "tfidf = TfidfVectorizer(preprocessor=\"\".join,\n",
    "                         use_idf=True, \n",
    "                         norm = \"l2\",\n",
    "                         smooth_idf=True)\n",
    "np.set_printoptions(precision=2)\n",
    "tfidf_vectors = tfidf.fit_transform(docs)\n",
    "\n",
    "tfidf_first = tfidf_vectors[0]\n",
    "pd.DataFrame(tfidf_first.toarray())\n",
    "\n",
    "porter = PorterStemmer()\n",
    "def tokenizer_porter(text):\n",
    "    return [porter.stem(word) for word in text.split()]\n",
    "\n",
    "tweets[\"stemmed\"] = tweets[\"text\"].apply(lambda x: tokenizer_porter(x))\n",
    "\n",
    "from nltk.corpus import stopwords\n",
    "nltk.download(\"stopwords\")\n",
    "stop = stopwords.words(\"english\")\n",
    "\n",
    "\n",
    "stop = ['i', 'me', 'my', 'myself', 'we', 'our', 'ours',\n",
    "        'ourselves', 'you', \"you're\", \"you've\", \"you'll\", \n",
    "        \"you'd\", 'your', 'yours', 'yourself', 'yourselves',\n",
    "        'he', 'him', 'his', 'himself', 'she', \"she's\", 'her',\n",
    "        'hers', 'herself', 'it', \"it's\", 'its', 'itself', 'they',\n",
    "        'them', 'their', 'theirs', 'themselves', 'what', 'which', \n",
    "        'who', 'whom', 'this', 'that', \"that'll\", 'these', 'those',\n",
    "        'a', 'an', 'the', 'and', 'if', 'or', 'because', 'as', \n",
    "        'until', 'while', 'of', 'at', 'by', 'for', 'with', 'about', \n",
    "        'between', 'into', 'through', 'during', 'before', \n",
    "        'after', 'above', 'below', 'to', 'from', 'up', 'down', 'in', \n",
    "        'out', 'on', 'off', 'over', 'under', 'again', 'further', 'then', \n",
    "        'once', 'here', 'there', 'when', 'where', 'why', 'how', 'all', \n",
    "        'any', 'both', 'each', 'few', 'more', 'most', 'other', 'some', \n",
    "        'such', 'only', 'own', 'same', 'so', 'than', \n",
    "        'too', 'very', 's', 't', 'just',  'now', 'd', 'll', 'm', 'o', 're', 've', 'y']\n",
    "\n",
    "nltk.download(\"stopwords\")\n",
    "\n",
    "def remove_stop_words(text):\n",
    "    stop = stopwords.words(\"english\")\n",
    "    return [word for word in text if word not in stop]\n",
    "\n",
    "def join_words(text):\n",
    "    return ' '.join(text)\n",
    "\n",
    "tweets[\"stop_removed\"] = tweets[\"stemmed\"].apply(lambda x: remove_stop_words(x))\n",
    "tweets[\"stop_removed\"] = tweets[\"stemmed\"].apply(lambda x: join_words(x))\n",
    "\n",
    "tweets.head()"
   ]
  },
  {
   "cell_type": "code",
   "execution_count": 5,
   "metadata": {},
   "outputs": [],
   "source": [
    "def polarity(text):\n",
    "    testimonial = TextBlob(text)\n",
    "    polarity = testimonial.sentiment.polarity\n",
    "    return polarity\n",
    "\n",
    "\n",
    "def subjectivity(text):\n",
    "    testimonial = TextBlob(text)\n",
    "    subjectivity = testimonial.subjectivity\n",
    "    return subjectivity\n",
    "\n",
    "\n",
    "def senti(text, polarity_threshold=0):\n",
    "    testimonial = TextBlob(text)\n",
    "    senti = testimonial.sentiment.polarity\n",
    "    \n",
    "    if senti >= polarity_threshold:\n",
    "        return 'positive'\n",
    "#     elif np.abs(senti) == polarity_threshold:\n",
    "#         return 0\n",
    "    else:\n",
    "        return 'negative'\n",
    "    \n",
    "\n",
    "tweets['polarity'] = tweets['stop_removed'].apply(lambda x: polarity(x))\n",
    "tweets['subjectivity'] = tweets['stop_removed'].apply(lambda x: subjectivity(x))\n",
    "tweets['sentiment'] = tweets['stop_removed'].apply(lambda x: senti(x))\n"
   ]
  },
  {
   "cell_type": "code",
   "execution_count": 6,
   "metadata": {},
   "outputs": [
    {
     "data": {
      "text/html": [
       "<div>\n",
       "<style scoped>\n",
       "    .dataframe tbody tr th:only-of-type {\n",
       "        vertical-align: middle;\n",
       "    }\n",
       "\n",
       "    .dataframe tbody tr th {\n",
       "        vertical-align: top;\n",
       "    }\n",
       "\n",
       "    .dataframe thead th {\n",
       "        text-align: right;\n",
       "    }\n",
       "</style>\n",
       "<table border=\"1\" class=\"dataframe\">\n",
       "  <thead>\n",
       "    <tr style=\"text-align: right;\">\n",
       "      <th></th>\n",
       "      <th>id</th>\n",
       "      <th>user_name</th>\n",
       "      <th>user_location</th>\n",
       "      <th>user_description</th>\n",
       "      <th>user_created</th>\n",
       "      <th>user_followers</th>\n",
       "      <th>user_friends</th>\n",
       "      <th>user_favourites</th>\n",
       "      <th>user_verified</th>\n",
       "      <th>date</th>\n",
       "      <th>...</th>\n",
       "      <th>hashtags</th>\n",
       "      <th>source</th>\n",
       "      <th>retweets</th>\n",
       "      <th>favorites</th>\n",
       "      <th>is_retweet</th>\n",
       "      <th>stemmed</th>\n",
       "      <th>stop_removed</th>\n",
       "      <th>polarity</th>\n",
       "      <th>subjectivity</th>\n",
       "      <th>sentiment</th>\n",
       "    </tr>\n",
       "  </thead>\n",
       "  <tbody>\n",
       "    <tr>\n",
       "      <th>0</th>\n",
       "      <td>1340539111971516416</td>\n",
       "      <td>Rachel Roh</td>\n",
       "      <td>La Crescenta-Montrose, CA</td>\n",
       "      <td>Aggregator of Asian American news; scanning di...</td>\n",
       "      <td>2009-04-08 17:52:46</td>\n",
       "      <td>405</td>\n",
       "      <td>1692</td>\n",
       "      <td>3247</td>\n",
       "      <td>False</td>\n",
       "      <td>2020-12-20 06:06:44</td>\n",
       "      <td>...</td>\n",
       "      <td>['PfizerBioNTech']</td>\n",
       "      <td>Twitter for Android</td>\n",
       "      <td>0</td>\n",
       "      <td>0</td>\n",
       "      <td>False</td>\n",
       "      <td>[same, folk, said, daikon, past, could, treat,...</td>\n",
       "      <td>same folk said daikon past could treat cytokin...</td>\n",
       "      <td>-0.125</td>\n",
       "      <td>0.187500</td>\n",
       "      <td>negative</td>\n",
       "    </tr>\n",
       "    <tr>\n",
       "      <th>2</th>\n",
       "      <td>1337858199140118533</td>\n",
       "      <td>eli🇱🇹🇪🇺👌</td>\n",
       "      <td>Your Bed</td>\n",
       "      <td>heil, hydra 🖐☺</td>\n",
       "      <td>2020-06-25 23:30:28</td>\n",
       "      <td>10</td>\n",
       "      <td>88</td>\n",
       "      <td>155</td>\n",
       "      <td>False</td>\n",
       "      <td>2020-12-12 20:33:45</td>\n",
       "      <td>...</td>\n",
       "      <td>['coronavirus', 'SputnikV', 'AstraZeneca', 'Pf...</td>\n",
       "      <td>Twitter for Android</td>\n",
       "      <td>0</td>\n",
       "      <td>0</td>\n",
       "      <td>False</td>\n",
       "      <td>[coronaviru, sputnikv, astrazeneca, pfizerbion...</td>\n",
       "      <td>coronaviru sputnikv astrazeneca pfizerbiontech...</td>\n",
       "      <td>0.000</td>\n",
       "      <td>0.033333</td>\n",
       "      <td>positive</td>\n",
       "    </tr>\n",
       "    <tr>\n",
       "      <th>6</th>\n",
       "      <td>1337851215875608579</td>\n",
       "      <td>Gunther Fehlinger</td>\n",
       "      <td>Austria, Ukraine and Kosovo</td>\n",
       "      <td>End North Stream 2 now - the pipeline of corru...</td>\n",
       "      <td>2013-06-10 17:49:22</td>\n",
       "      <td>2731</td>\n",
       "      <td>5001</td>\n",
       "      <td>69344</td>\n",
       "      <td>False</td>\n",
       "      <td>2020-12-12 20:06:00</td>\n",
       "      <td>...</td>\n",
       "      <td>['vaccination']</td>\n",
       "      <td>Twitter Web App</td>\n",
       "      <td>0</td>\n",
       "      <td>4</td>\n",
       "      <td>False</td>\n",
       "      <td>[it, is, bit, sad, to, claim, the, fame, for, ...</td>\n",
       "      <td>it is bit sad to claim the fame for success of...</td>\n",
       "      <td>-0.100</td>\n",
       "      <td>0.500000</td>\n",
       "      <td>negative</td>\n",
       "    </tr>\n",
       "    <tr>\n",
       "      <th>9</th>\n",
       "      <td>1337842295857623042</td>\n",
       "      <td>Ch.Amjad Ali</td>\n",
       "      <td>Islamabad</td>\n",
       "      <td>#ProudPakistani #LovePakArmy #PMIK @insafiansp...</td>\n",
       "      <td>2012-11-12 04:18:12</td>\n",
       "      <td>671</td>\n",
       "      <td>2368</td>\n",
       "      <td>20469</td>\n",
       "      <td>False</td>\n",
       "      <td>2020-12-12 19:30:33</td>\n",
       "      <td>...</td>\n",
       "      <td>['CovidVaccine', 'COVID19Vaccine', 'US', 'paku...</td>\n",
       "      <td>Twitter Web App</td>\n",
       "      <td>0</td>\n",
       "      <td>0</td>\n",
       "      <td>False</td>\n",
       "      <td>[covidvaccinest, will, start, get, covid19vacc...</td>\n",
       "      <td>covidvaccinest will start get covid19vaccin mo...</td>\n",
       "      <td>0.000</td>\n",
       "      <td>0.000000</td>\n",
       "      <td>positive</td>\n",
       "    </tr>\n",
       "    <tr>\n",
       "      <th>10</th>\n",
       "      <td>1337841934170255365</td>\n",
       "      <td>Tamer Yazar</td>\n",
       "      <td>Turkey-Israel</td>\n",
       "      <td>Im Market Analyst, also Editor... working (fre...</td>\n",
       "      <td>2009-09-17 16:45:16</td>\n",
       "      <td>1302</td>\n",
       "      <td>78</td>\n",
       "      <td>339</td>\n",
       "      <td>False</td>\n",
       "      <td>2020-12-12 19:29:07</td>\n",
       "      <td>...</td>\n",
       "      <td>['PfizerBioNTech', 'Vaccine']</td>\n",
       "      <td>Twitter Web App</td>\n",
       "      <td>0</td>\n",
       "      <td>0</td>\n",
       "      <td>False</td>\n",
       "      <td>[while, death, are, close, in, on, the, 300000...</td>\n",
       "      <td>while death are close in on the 300000 mark mi...</td>\n",
       "      <td>0.250</td>\n",
       "      <td>0.333333</td>\n",
       "      <td>positive</td>\n",
       "    </tr>\n",
       "  </tbody>\n",
       "</table>\n",
       "<p>5 rows × 21 columns</p>\n",
       "</div>"
      ],
      "text/plain": [
       "                     id          user_name                user_location  \\\n",
       "0   1340539111971516416         Rachel Roh    La Crescenta-Montrose, CA   \n",
       "2   1337858199140118533           eli🇱🇹🇪🇺👌                     Your Bed   \n",
       "6   1337851215875608579  Gunther Fehlinger  Austria, Ukraine and Kosovo   \n",
       "9   1337842295857623042       Ch.Amjad Ali                    Islamabad   \n",
       "10  1337841934170255365        Tamer Yazar                Turkey-Israel   \n",
       "\n",
       "                                     user_description         user_created  \\\n",
       "0   Aggregator of Asian American news; scanning di...  2009-04-08 17:52:46   \n",
       "2                                      heil, hydra 🖐☺  2020-06-25 23:30:28   \n",
       "6   End North Stream 2 now - the pipeline of corru...  2013-06-10 17:49:22   \n",
       "9   #ProudPakistani #LovePakArmy #PMIK @insafiansp...  2012-11-12 04:18:12   \n",
       "10  Im Market Analyst, also Editor... working (fre...  2009-09-17 16:45:16   \n",
       "\n",
       "    user_followers  user_friends  user_favourites  user_verified  \\\n",
       "0              405          1692             3247          False   \n",
       "2               10            88              155          False   \n",
       "6             2731          5001            69344          False   \n",
       "9              671          2368            20469          False   \n",
       "10            1302            78              339          False   \n",
       "\n",
       "                   date  ...  \\\n",
       "0   2020-12-20 06:06:44  ...   \n",
       "2   2020-12-12 20:33:45  ...   \n",
       "6   2020-12-12 20:06:00  ...   \n",
       "9   2020-12-12 19:30:33  ...   \n",
       "10  2020-12-12 19:29:07  ...   \n",
       "\n",
       "                                             hashtags               source  \\\n",
       "0                                  ['PfizerBioNTech']  Twitter for Android   \n",
       "2   ['coronavirus', 'SputnikV', 'AstraZeneca', 'Pf...  Twitter for Android   \n",
       "6                                     ['vaccination']      Twitter Web App   \n",
       "9   ['CovidVaccine', 'COVID19Vaccine', 'US', 'paku...      Twitter Web App   \n",
       "10                      ['PfizerBioNTech', 'Vaccine']      Twitter Web App   \n",
       "\n",
       "   retweets  favorites  is_retweet  \\\n",
       "0         0          0       False   \n",
       "2         0          0       False   \n",
       "6         0          4       False   \n",
       "9         0          0       False   \n",
       "10        0          0       False   \n",
       "\n",
       "                                              stemmed  \\\n",
       "0   [same, folk, said, daikon, past, could, treat,...   \n",
       "2   [coronaviru, sputnikv, astrazeneca, pfizerbion...   \n",
       "6   [it, is, bit, sad, to, claim, the, fame, for, ...   \n",
       "9   [covidvaccinest, will, start, get, covid19vacc...   \n",
       "10  [while, death, are, close, in, on, the, 300000...   \n",
       "\n",
       "                                         stop_removed polarity  subjectivity  \\\n",
       "0   same folk said daikon past could treat cytokin...   -0.125      0.187500   \n",
       "2   coronaviru sputnikv astrazeneca pfizerbiontech...    0.000      0.033333   \n",
       "6   it is bit sad to claim the fame for success of...   -0.100      0.500000   \n",
       "9   covidvaccinest will start get covid19vaccin mo...    0.000      0.000000   \n",
       "10  while death are close in on the 300000 mark mi...    0.250      0.333333   \n",
       "\n",
       "    sentiment  \n",
       "0    negative  \n",
       "2    positive  \n",
       "6    negative  \n",
       "9    positive  \n",
       "10   positive  \n",
       "\n",
       "[5 rows x 21 columns]"
      ]
     },
     "execution_count": 6,
     "metadata": {},
     "output_type": "execute_result"
    }
   ],
   "source": [
    "tweets.head()"
   ]
  },
  {
   "cell_type": "code",
   "execution_count": 7,
   "metadata": {},
   "outputs": [],
   "source": [
    "X_train, X_test, y_train, y_test = train_test_split(tweets[\"stop_removed\"], tweets[\"sentiment\"], \n",
    "                                                    test_size = 0.2, random_state=123,stratify= tweets[\"sentiment\"])"
   ]
  },
  {
   "cell_type": "code",
   "execution_count": 8,
   "metadata": {},
   "outputs": [
    {
     "data": {
      "text/plain": [
       "pandas.core.series.Series"
      ]
     },
     "execution_count": 8,
     "metadata": {},
     "output_type": "execute_result"
    }
   ],
   "source": [
    "type(X_train)"
   ]
  },
  {
   "cell_type": "code",
   "execution_count": 9,
   "metadata": {},
   "outputs": [],
   "source": [
    "# Addeed for GridSearch\n",
    "Original_X_train = X_train\n",
    "Original_y_train = y_train\n",
    "Original_X_test = X_test\n",
    "Original_y_test = y_test\n",
    "\n",
    "Grid_X_train = X_train.values\n",
    "Grid_y_train = y_train.values\n",
    "Grid_X_test = X_test.values\n",
    "Grid_y_test = y_test.values"
   ]
  },
  {
   "cell_type": "code",
   "execution_count": 10,
   "metadata": {},
   "outputs": [
    {
     "name": "stdout",
     "output_type": "stream",
     "text": [
      "No. of feature_words:  15329\n"
     ]
    }
   ],
   "source": [
    "vectoriser = TfidfVectorizer()\n",
    "vectoriser.fit(X_train)\n",
    "print('No. of feature_words: ', len(vectoriser.get_feature_names()))\n",
    "\n",
    "X_train = vectoriser.transform(X_train)\n",
    "X_test  = vectoriser.transform(X_test)"
   ]
  },
  {
   "cell_type": "code",
   "execution_count": null,
   "metadata": {},
   "outputs": [],
   "source": []
  },
  {
   "cell_type": "code",
   "execution_count": 11,
   "metadata": {},
   "outputs": [],
   "source": [
    "def model_Evaluate(model):\n",
    "    # Predict values for Test dataset\n",
    "    y_pred = model.predict(X_test)\n",
    "    # Print the evaluation metrics for the dataset.\n",
    "    print(classification_report(y_test, y_pred))\n",
    "    # Compute and plot the Confusion matrix\n",
    "    cf_matrix = confusion_matrix(y_pred, y_test)\n",
    "#     print(cf_matrix)\n",
    "    categories = ['Negative','Positive']\n",
    "    group_names = ['True Neg ','False Pos ', 'False Neg ','True Pos ']\n",
    "    group_percentages = ['{0:.2%}'.format(value) for value in cf_matrix.flatten() / np.sum(cf_matrix)]\n",
    "    labels = [f'{v1} n {v2}' for v1, v2 in zip(group_names,group_percentages)]\n",
    "    labels = np.asarray(labels).reshape(2,2)\n",
    "    sns.heatmap(cf_matrix, annot = labels, cmap = 'Blues',fmt = '',\n",
    "    xticklabels = categories, yticklabels = categories)\n",
    "    plt.xlabel(\"Predicted values\", fontdict = {'size':14}, labelpad = 10)\n",
    "    plt.ylabel(\"Actual values\" , fontdict = {'size':14}, labelpad = 10)\n",
    "    plt.title (\"Confusion Matrix\", fontdict = {'size':18}, pad = 20)"
   ]
  },
  {
   "cell_type": "code",
   "execution_count": null,
   "metadata": {},
   "outputs": [],
   "source": []
  },
  {
   "cell_type": "code",
   "execution_count": 12,
   "metadata": {
    "scrolled": true
   },
   "outputs": [
    {
     "name": "stdout",
     "output_type": "stream",
     "text": [
      "Test Accuracy: 96.101%\n",
      "              precision    recall  f1-score   support\n",
      "\n",
      "    negative       0.87      0.69      0.77       372\n",
      "    positive       0.97      0.99      0.98      3552\n",
      "\n",
      "    accuracy                           0.96      3924\n",
      "   macro avg       0.92      0.84      0.87      3924\n",
      "weighted avg       0.96      0.96      0.96      3924\n",
      "\n"
     ]
    },
    {
     "data": {
      "image/png": "[encoded data removed]",
      "text/plain": [
       "<Figure size 432x288 with 2 Axes>"
      ]
     },
     "metadata": {
      "needs_background": "light"
     },
     "output_type": "display_data"
    }
   ],
   "source": [
    "from sklearn.ensemble import RandomForestClassifier\n",
    "text_classifier = RandomForestClassifier(n_estimators=200, random_state=0)\n",
    "text_classifier.fit(X_train, y_train)\n",
    "predictions = text_classifier.predict(X_test)\n",
    "print(f\"Test Accuracy: {text_classifier.score(X_test, y_test)*100:0.3f}%\")\n",
    "model_Evaluate(text_classifier)"
   ]
  },
  {
   "cell_type": "code",
   "execution_count": 13,
   "metadata": {},
   "outputs": [],
   "source": [
    "from sklearn.metrics import roc_curve, auc"
   ]
  },
  {
   "cell_type": "code",
   "execution_count": 14,
   "metadata": {},
   "outputs": [],
   "source": [
    "def convert(y):\n",
    "    if y=='positive':\n",
    "        return 1\n",
    "    else:\n",
    "        return 0\n",
    "    \n",
    "y_test_roc=y_test.apply(convert)\n",
    "predictions_roc=pd.Series(predictions).apply(convert)"
   ]
  },
  {
   "cell_type": "code",
   "execution_count": 15,
   "metadata": {},
   "outputs": [
    {
     "data": {
      "text/plain": [
       "(array([0.  , 0.31, 1.  ]),\n",
       " array([0.  , 0.99, 1.  ]),\n",
       " array([2, 1, 0], dtype=int64))"
      ]
     },
     "execution_count": 15,
     "metadata": {},
     "output_type": "execute_result"
    }
   ],
   "source": [
    "roc_curve(y_test_roc, predictions_roc)"
   ]
  },
  {
   "cell_type": "code",
   "execution_count": 16,
   "metadata": {},
   "outputs": [
    {
     "data": {
      "image/png": "[encoded data removed]",
      "text/plain": [
       "<Figure size 432x288 with 1 Axes>"
      ]
     },
     "metadata": {
      "needs_background": "light"
     },
     "output_type": "display_data"
    }
   ],
   "source": [
    "fpr, tpr, thresholds = roc_curve(y_test_roc, predictions_roc)\n",
    "roc_auc = auc(fpr, tpr)\n",
    "plt.figure()\n",
    "plt.plot(fpr, tpr, color='darkorange', lw=1, label='ROC curve (area = %0.2f)' % roc_auc)\n",
    "plt.xlim([0.0, 1.0])\n",
    "plt.ylim([0.0, 1.05])\n",
    "plt.xlabel('False Positive Rate')\n",
    "plt.ylabel('True Positive Rate')\n",
    "plt.title('ROC CURVE')\n",
    "plt.legend(loc=\"lower right\")\n",
    "plt.show()"
   ]
  },
  {
   "cell_type": "code",
   "execution_count": 17,
   "metadata": {},
   "outputs": [
    {
     "name": "stdout",
     "output_type": "stream",
     "text": [
      "              precision    recall  f1-score   support\n",
      "\n",
      "    negative       0.87      0.09      0.16       372\n",
      "    positive       0.91      1.00      0.95      3552\n",
      "\n",
      "    accuracy                           0.91      3924\n",
      "   macro avg       0.89      0.54      0.56      3924\n",
      "weighted avg       0.91      0.91      0.88      3924\n",
      "\n",
      "Test Accuracy: 91.233%\n"
     ]
    },
    {
     "data": {
      "image/png": "[encoded data removed]",
      "text/plain": [
       "<Figure size 432x288 with 2 Axes>"
      ]
     },
     "metadata": {
      "needs_background": "light"
     },
     "output_type": "display_data"
    }
   ],
   "source": [
    "BNBmodel = BernoulliNB()\n",
    "BNBmodel.fit(X_train, y_train)\n",
    "model_Evaluate(BNBmodel)\n",
    "y_pred1 = BNBmodel.predict(X_test)\n",
    "print(f\"Test Accuracy: {BNBmodel.score(X_test, y_test)*100:0.3f}%\")"
   ]
  },
  {
   "cell_type": "code",
   "execution_count": 18,
   "metadata": {},
   "outputs": [
    {
     "data": {
      "image/png": "[encoded data removed]",
      "text/plain": [
       "<Figure size 432x288 with 1 Axes>"
      ]
     },
     "metadata": {
      "needs_background": "light"
     },
     "output_type": "display_data"
    }
   ],
   "source": [
    "y_pred1_roc=pd.Series(y_pred1).apply(convert)\n",
    "fpr, tpr, thresholds = roc_curve(y_test_roc, y_pred1_roc)\n",
    "roc_auc = auc(fpr, tpr)\n",
    "plt.figure()\n",
    "plt.plot(fpr, tpr, color='darkorange', lw=1, label='ROC curve (area = %0.2f)' % roc_auc)\n",
    "plt.xlim([0.0, 1.0])\n",
    "plt.ylim([0.0, 1.05])\n",
    "plt.xlabel('False Positive Rate')\n",
    "plt.ylabel('True Positive Rate')\n",
    "plt.title('ROC CURVE')\n",
    "plt.legend(loc=\"lower right\")\n",
    "plt.show()"
   ]
  },
  {
   "cell_type": "code",
   "execution_count": 19,
   "metadata": {},
   "outputs": [
    {
     "name": "stdout",
     "output_type": "stream",
     "text": [
      "              precision    recall  f1-score   support\n",
      "\n",
      "    negative       0.92      0.75      0.83       372\n",
      "    positive       0.97      0.99      0.98      3552\n",
      "\n",
      "    accuracy                           0.97      3924\n",
      "   macro avg       0.95      0.87      0.91      3924\n",
      "weighted avg       0.97      0.97      0.97      3924\n",
      "\n",
      "Test Accuracy: 97.044%\n"
     ]
    },
    {
     "data": {
      "image/png": "[encoded data removed]",
      "text/plain": [
       "<Figure size 432x288 with 2 Axes>"
      ]
     },
     "metadata": {
      "needs_background": "light"
     },
     "output_type": "display_data"
    }
   ],
   "source": [
    "SVCmodel = LinearSVC()\n",
    "SVCmodel.fit(X_train, y_train)\n",
    "model_Evaluate(SVCmodel)\n",
    "y_pred2 = SVCmodel.predict(X_test)\n",
    "print(f\"Test Accuracy: {SVCmodel.score(X_test, y_test)*100:0.3f}%\")"
   ]
  },
  {
   "cell_type": "code",
   "execution_count": 20,
   "metadata": {},
   "outputs": [
    {
     "data": {
      "image/png": "[encoded data removed]",
      "text/plain": [
       "<Figure size 432x288 with 1 Axes>"
      ]
     },
     "metadata": {
      "needs_background": "light"
     },
     "output_type": "display_data"
    }
   ],
   "source": [
    "y_pred2_roc=pd.Series(y_pred2).apply(convert)\n",
    "fpr, tpr, thresholds = roc_curve(y_test_roc, y_pred2_roc)\n",
    "roc_auc = auc(fpr, tpr)\n",
    "plt.figure()\n",
    "plt.plot(fpr, tpr, color='darkorange', lw=1, label='ROC curve (area = %0.2f)' % roc_auc)\n",
    "plt.xlim([0.0, 1.0])\n",
    "plt.ylim([0.0, 1.05])\n",
    "plt.xlabel('False Positive Rate')\n",
    "plt.ylabel('True Positive Rate')\n",
    "plt.title('ROC CURVE')\n",
    "plt.legend(loc=\"lower right\")\n",
    "plt.show()"
   ]
  },
  {
   "cell_type": "code",
   "execution_count": 21,
   "metadata": {
    "scrolled": true
   },
   "outputs": [
    {
     "name": "stdout",
     "output_type": "stream",
     "text": [
      "              precision    recall  f1-score   support\n",
      "\n",
      "    negative       0.92      0.22      0.35       372\n",
      "    positive       0.92      1.00      0.96      3552\n",
      "\n",
      "    accuracy                           0.92      3924\n",
      "   macro avg       0.92      0.61      0.66      3924\n",
      "weighted avg       0.92      0.92      0.90      3924\n",
      "\n",
      "Test Accuracy: 92.406%\n"
     ]
    },
    {
     "data": {
      "image/png": "[encoded data removed]",
      "text/plain": [
       "<Figure size 432x288 with 2 Axes>"
      ]
     },
     "metadata": {
      "needs_background": "light"
     },
     "output_type": "display_data"
    }
   ],
   "source": [
    "LRmodel = LogisticRegression()\n",
    "LRmodel.fit(X_train, y_train)\n",
    "model_Evaluate(LRmodel)\n",
    "y_pred3 = LRmodel.predict(X_test)\n",
    "print(f\"Test Accuracy: {LRmodel.score(X_test, y_test)*100:0.3f}%\")"
   ]
  },
  {
   "cell_type": "code",
   "execution_count": 22,
   "metadata": {},
   "outputs": [
    {
     "data": {
      "image/png": "[encoded data removed]",
      "text/plain": [
       "<Figure size 432x288 with 1 Axes>"
      ]
     },
     "metadata": {
      "needs_background": "light"
     },
     "output_type": "display_data"
    }
   ],
   "source": [
    "y_pred3_roc=pd.Series(y_pred3).apply(convert)\n",
    "fpr, tpr, thresholds = roc_curve(y_test_roc, y_pred3_roc)\n",
    "roc_auc = auc(fpr, tpr)\n",
    "plt.figure()\n",
    "plt.plot(fpr, tpr, color='darkorange', lw=1, label='ROC curve (area = %0.2f)' % roc_auc)\n",
    "plt.xlim([0.0, 1.0])\n",
    "plt.ylim([0.0, 1.05])\n",
    "plt.xlabel('False Positive Rate')\n",
    "plt.ylabel('True Positive Rate')\n",
    "plt.title('ROC CURVE')\n",
    "plt.legend(loc=\"lower right\")\n",
    "plt.show()"
   ]
  },
  {
   "cell_type": "code",
   "execution_count": 23,
   "metadata": {},
   "outputs": [],
   "source": [
    "from sklearn.pipeline import Pipeline\n",
    "from sklearn.model_selection import GridSearchCV"
   ]
  },
  {
   "cell_type": "code",
   "execution_count": 24,
   "metadata": {},
   "outputs": [
    {
     "name": "stdout",
     "output_type": "stream",
     "text": [
      "Fitting 5 folds for each of 16 candidates, totalling 80 fits\n"
     ]
    },
    {
     "name": "stderr",
     "output_type": "stream",
     "text": [
      "[Parallel(n_jobs=-1)]: Using backend LokyBackend with 8 concurrent workers.\n",
      "[Parallel(n_jobs=-1)]: Done  25 tasks      | elapsed:   16.4s\n",
      "[Parallel(n_jobs=-1)]: Done  80 out of  80 | elapsed:  1.1min finished\n"
     ]
    },
    {
     "data": {
      "text/plain": [
       "GridSearchCV(cv=5,\n",
       "             estimator=Pipeline(steps=[('vect',\n",
       "                                        TfidfVectorizer(lowercase=False)),\n",
       "                                       ('clf', LinearSVC(random_state=0))]),\n",
       "             n_jobs=-1,\n",
       "             param_grid=[{'clf__C': [1.0], 'clf__penalty': [11, 12],\n",
       "                          'vect__ngram_range': [(1, 1)],\n",
       "                          'vect__stop_words': [['i', 'me', 'my', 'myself', 'we',\n",
       "                                                'our', 'ours', 'ourselves',\n",
       "                                                'you', \"you're\", \"you've\",\n",
       "                                                \"you'll\", \"you'd\", 'your',\n",
       "                                                'yours', 'yourself...\n",
       "                                                'our', 'ours', 'ourselves',\n",
       "                                                'you', \"you're\", \"you've\",\n",
       "                                                \"you'll\", \"you'd\", 'your',\n",
       "                                                'yours', 'yourself',\n",
       "                                                'yourselves', 'he', 'him',\n",
       "                                                'his', 'himself', 'she',\n",
       "                                                \"she's\", 'her', 'hers',\n",
       "                                                'herself', 'it', \"it's\", 'its',\n",
       "                                                'itself', ...],\n",
       "                                               None],\n",
       "                          'vect__tokenizer': [<function tokenizer at 0x000001671991BB80>,\n",
       "                                              <function tokenizer_porter at 0x00000167149E8AF0>],\n",
       "                          'vect__use_idf': [False]}],\n",
       "             scoring='accuracy', verbose=2)"
      ]
     },
     "execution_count": 24,
     "metadata": {},
     "output_type": "execute_result"
    }
   ],
   "source": [
    "# GridSearch for SVM\n",
    "\n",
    "tfidf = TfidfVectorizer(strip_accents=None,\n",
    "                        lowercase=False,\n",
    "                        preprocessor=None)\n",
    "param_grid = [{\"vect__ngram_range\": [(1,1)],\n",
    "              \"vect__stop_words\":[stop,None],\n",
    "              \"vect__tokenizer\":[tokenizer,\n",
    "                               tokenizer_porter],\n",
    "              \"clf__penalty\":[11,12],\n",
    "              \"clf__C\":[1.0]},\n",
    "              {\"vect__ngram_range\":[(1,1)],\n",
    "               \"vect__stop_words\": [stop, None],\n",
    "               \"vect__tokenizer\": [tokenizer,\n",
    "                                 tokenizer_porter],\n",
    "               \"vect__use_idf\": [False],\n",
    "               \"vect__norm\":[None],\n",
    "               \"clf__penalty\": [\"l1\", \"l2\"],\n",
    "               \"clf__C\": [1.0]}]\n",
    "lr_tfidf = Pipeline([(\"vect\", tfidf),\n",
    "                     (\"clf\", LinearSVC(random_state = 0))])\n",
    "\n",
    "gs_lr_tfidf = GridSearchCV(lr_tfidf, param_grid,scoring = \"accuracy\",\n",
    "                          cv = 5, verbose=2, n_jobs = -1)\n",
    "gs_lr_tfidf.fit(Grid_X_train, Grid_y_train)"
   ]
  },
  {
   "cell_type": "code",
   "execution_count": 25,
   "metadata": {},
   "outputs": [
    {
     "data": {
      "text/plain": [
       "{'clf__C': 1.0,\n",
       " 'clf__penalty': 'l2',\n",
       " 'vect__ngram_range': (1, 1),\n",
       " 'vect__norm': None,\n",
       " 'vect__stop_words': None,\n",
       " 'vect__tokenizer': <function __main__.tokenizer(text)>,\n",
       " 'vect__use_idf': False}"
      ]
     },
     "execution_count": 25,
     "metadata": {},
     "output_type": "execute_result"
    }
   ],
   "source": [
    "SVMbestparams = gs_lr_tfidf.best_params_\n",
    "SVMbestparams"
   ]
  },
  {
   "cell_type": "code",
   "execution_count": 26,
   "metadata": {},
   "outputs": [
    {
     "name": "stdout",
     "output_type": "stream",
     "text": [
      "Training Accuracy: 97.139%\n",
      "Test Accuracy: 97.324%\n"
     ]
    }
   ],
   "source": [
    "print(f\"Training Accuracy: {gs_lr_tfidf.best_score_*100:0.3f}%\")\n",
    "clf = gs_lr_tfidf.best_estimator_\n",
    "print(f\"Test Accuracy: {clf.score(Grid_X_test, Grid_y_test)*100:0.3f}%\")"
   ]
  },
  {
   "cell_type": "code",
   "execution_count": 27,
   "metadata": {},
   "outputs": [
    {
     "name": "stdout",
     "output_type": "stream",
     "text": [
      "Fitting 5 folds for each of 16 candidates, totalling 80 fits\n"
     ]
    },
    {
     "name": "stderr",
     "output_type": "stream",
     "text": [
      "[Parallel(n_jobs=-1)]: Using backend LokyBackend with 8 concurrent workers.\n",
      "[Parallel(n_jobs=-1)]: Done  25 tasks      | elapsed:   13.6s\n",
      "[Parallel(n_jobs=-1)]: Done  80 out of  80 | elapsed:  1.1min finished\n",
      "C:\\Users\\yutao\\anaconda3\\lib\\site-packages\\sklearn\\linear_model\\_logistic.py:762: ConvergenceWarning: lbfgs failed to converge (status=1):\n",
      "STOP: TOTAL NO. of ITERATIONS REACHED LIMIT.\n",
      "\n",
      "Increase the number of iterations (max_iter) or scale the data as shown in:\n",
      "    https://scikit-learn.org/stable/modules/preprocessing.html\n",
      "Please also refer to the documentation for alternative solver options:\n",
      "    https://scikit-learn.org/stable/modules/linear_model.html#logistic-regression\n",
      "  n_iter_i = _check_optimize_result(\n"
     ]
    },
    {
     "data": {
      "text/plain": [
       "GridSearchCV(cv=5,\n",
       "             estimator=Pipeline(steps=[('vect',\n",
       "                                        TfidfVectorizer(lowercase=False)),\n",
       "                                       ('clf',\n",
       "                                        LogisticRegression(random_state=0))]),\n",
       "             n_jobs=-1,\n",
       "             param_grid=[{'clf__C': [1.0], 'clf__penalty': [11, 12],\n",
       "                          'vect__ngram_range': [(1, 1)],\n",
       "                          'vect__stop_words': [['i', 'me', 'my', 'myself', 'we',\n",
       "                                                'our', 'ours', 'ourselves',\n",
       "                                                'you', \"you're\", \"you've\",\n",
       "                                                \"you'll\", \"you'd\", 'your',\n",
       "                                                'yours',...\n",
       "                                                'our', 'ours', 'ourselves',\n",
       "                                                'you', \"you're\", \"you've\",\n",
       "                                                \"you'll\", \"you'd\", 'your',\n",
       "                                                'yours', 'yourself',\n",
       "                                                'yourselves', 'he', 'him',\n",
       "                                                'his', 'himself', 'she',\n",
       "                                                \"she's\", 'her', 'hers',\n",
       "                                                'herself', 'it', \"it's\", 'its',\n",
       "                                                'itself', ...],\n",
       "                                               None],\n",
       "                          'vect__tokenizer': [<function tokenizer at 0x000001671991BB80>,\n",
       "                                              <function tokenizer_porter at 0x00000167149E8AF0>],\n",
       "                          'vect__use_idf': [False]}],\n",
       "             scoring='accuracy', verbose=2)"
      ]
     },
     "execution_count": 27,
     "metadata": {},
     "output_type": "execute_result"
    }
   ],
   "source": [
    "# GridSearch for Logistic Regression\n",
    "\n",
    "tfidf = TfidfVectorizer(strip_accents=None,\n",
    "                        lowercase=False,\n",
    "                        preprocessor=None)\n",
    "param_grid = [{\"vect__ngram_range\": [(1,1)],\n",
    "              \"vect__stop_words\":[stop,None],\n",
    "              \"vect__tokenizer\":[tokenizer,\n",
    "                               tokenizer_porter],\n",
    "              \"clf__penalty\":[11,12],\n",
    "              \"clf__C\":[1.0]},\n",
    "              {\"vect__ngram_range\":[(1,1)],\n",
    "               \"vect__stop_words\": [stop, None],\n",
    "               \"vect__tokenizer\": [tokenizer,\n",
    "                                 tokenizer_porter],\n",
    "               \"vect__use_idf\": [False],\n",
    "               \"vect__norm\":[None],\n",
    "               \"clf__penalty\": [\"l1\", \"l2\"],\n",
    "               \"clf__C\": [1.0]}]\n",
    "lr_tfidf = Pipeline([(\"vect\", tfidf),\n",
    "                     (\"clf\", LogisticRegression(random_state = 0))])\n",
    "\n",
    "gs_lr_tfidf = GridSearchCV(lr_tfidf, param_grid,scoring = \"accuracy\",\n",
    "                          cv = 5, verbose=2, n_jobs = -1)\n",
    "gs_lr_tfidf.fit(Grid_X_train, Grid_y_train)"
   ]
  },
  {
   "cell_type": "code",
   "execution_count": 28,
   "metadata": {},
   "outputs": [
    {
     "data": {
      "text/plain": [
       "{'clf__C': 1.0,\n",
       " 'clf__penalty': 'l2',\n",
       " 'vect__ngram_range': (1, 1),\n",
       " 'vect__norm': None,\n",
       " 'vect__stop_words': None,\n",
       " 'vect__tokenizer': <function __main__.tokenizer(text)>,\n",
       " 'vect__use_idf': False}"
      ]
     },
     "execution_count": 28,
     "metadata": {},
     "output_type": "execute_result"
    }
   ],
   "source": [
    "LRbestparams = gs_lr_tfidf.best_params_\n",
    "LRbestparams"
   ]
  },
  {
   "cell_type": "code",
   "execution_count": 29,
   "metadata": {},
   "outputs": [
    {
     "name": "stdout",
     "output_type": "stream",
     "text": [
      "Training Accuracy: 95.380%\n",
      "Test Accuracy: 95.515%\n"
     ]
    }
   ],
   "source": [
    "print(f\"Training Accuracy: {gs_lr_tfidf.best_score_*100:0.3f}%\")\n",
    "clf = gs_lr_tfidf.best_estimator_\n",
    "print(f\"Test Accuracy: {clf.score(Grid_X_test, Grid_y_test)*100:0.3f}%\")"
   ]
  },
  {
   "cell_type": "code",
   "execution_count": 30,
   "metadata": {
    "scrolled": true
   },
   "outputs": [
    {
     "name": "stderr",
     "output_type": "stream",
     "text": [
      "[Parallel(n_jobs=-1)]: Using backend LokyBackend with 8 concurrent workers.\n"
     ]
    },
    {
     "name": "stdout",
     "output_type": "stream",
     "text": [
      "Fitting 5 folds for each of 8 candidates, totalling 40 fits\n"
     ]
    },
    {
     "name": "stderr",
     "output_type": "stream",
     "text": [
      "[Parallel(n_jobs=-1)]: Done  25 tasks      | elapsed:  2.2min\n",
      "[Parallel(n_jobs=-1)]: Done  40 out of  40 | elapsed:  3.2min finished\n"
     ]
    },
    {
     "data": {
      "text/plain": [
       "GridSearchCV(cv=5,\n",
       "             estimator=Pipeline(steps=[('vect',\n",
       "                                        TfidfVectorizer(lowercase=False)),\n",
       "                                       ('clf',\n",
       "                                        RandomForestClassifier(n_estimators=200,\n",
       "                                                               random_state=0))]),\n",
       "             n_jobs=-1,\n",
       "             param_grid=[{'vect__ngram_range': [(1, 1)],\n",
       "                          'vect__stop_words': [['i', 'me', 'my', 'myself', 'we',\n",
       "                                                'our', 'ours', 'ourselves',\n",
       "                                                'you', \"you're\", \"you've\",\n",
       "                                                \"you'll\", \"you'd\", 'your',\n",
       "                                                'yours', 'yourself',\n",
       "                                                'yours...\n",
       "                                                'our', 'ours', 'ourselves',\n",
       "                                                'you', \"you're\", \"you've\",\n",
       "                                                \"you'll\", \"you'd\", 'your',\n",
       "                                                'yours', 'yourself',\n",
       "                                                'yourselves', 'he', 'him',\n",
       "                                                'his', 'himself', 'she',\n",
       "                                                \"she's\", 'her', 'hers',\n",
       "                                                'herself', 'it', \"it's\", 'its',\n",
       "                                                'itself', ...],\n",
       "                                               None],\n",
       "                          'vect__tokenizer': [<function tokenizer at 0x000001671991BB80>,\n",
       "                                              <function tokenizer_porter at 0x00000167149E8AF0>],\n",
       "                          'vect__use_idf': [False]}],\n",
       "             scoring='accuracy', verbose=2)"
      ]
     },
     "execution_count": 30,
     "metadata": {},
     "output_type": "execute_result"
    }
   ],
   "source": [
    "# GridSearch for Random forest\n",
    "\n",
    "tfidf = TfidfVectorizer(strip_accents=None,\n",
    "                        lowercase=False,\n",
    "                        preprocessor=None)\n",
    "param_grid = [{\"vect__ngram_range\": [(1,1)],\n",
    "              \"vect__stop_words\":[stop,None],\n",
    "              \"vect__tokenizer\":[tokenizer,\n",
    "                               tokenizer_porter]},\n",
    "#              \"clf__penalty\":[11,12],\n",
    "#              \"clf__C\":[1.0]},\n",
    "              {\"vect__ngram_range\":[(1,1)],\n",
    "               \"vect__stop_words\": [stop, None],\n",
    "               \"vect__tokenizer\": [tokenizer,\n",
    "                                 tokenizer_porter],\n",
    "               \"vect__use_idf\": [False],\n",
    "               \"vect__norm\":[None]}]\n",
    "#               \"clf__penalty\": [\"l1\", \"l2\"],\n",
    "#               \"clf__C\": [1.0]}]\n",
    "lr_tfidf = Pipeline([(\"vect\", tfidf),\n",
    "                     (\"clf\", RandomForestClassifier(n_estimators=200, random_state=0))])\n",
    "\n",
    "gs_lr_tfidf = GridSearchCV(lr_tfidf, param_grid,scoring = \"accuracy\",\n",
    "                          cv = 5, verbose=2, n_jobs = -1)\n",
    "gs_lr_tfidf.fit(Grid_X_train, Grid_y_train)"
   ]
  },
  {
   "cell_type": "code",
   "execution_count": 31,
   "metadata": {},
   "outputs": [
    {
     "data": {
      "text/plain": [
       "{'vect__ngram_range': (1, 1),\n",
       " 'vect__norm': None,\n",
       " 'vect__stop_words': None,\n",
       " 'vect__tokenizer': <function __main__.tokenizer_porter(text)>,\n",
       " 'vect__use_idf': False}"
      ]
     },
     "execution_count": 31,
     "metadata": {},
     "output_type": "execute_result"
    }
   ],
   "source": [
    "RFbestparams = gs_lr_tfidf.best_params_\n",
    "RFbestparams"
   ]
  },
  {
   "cell_type": "code",
   "execution_count": 32,
   "metadata": {},
   "outputs": [
    {
     "name": "stdout",
     "output_type": "stream",
     "text": [
      "Training Accuracy: 96.329%\n",
      "Test Accuracy: 96.764%\n"
     ]
    }
   ],
   "source": [
    "print(f\"Training Accuracy: {gs_lr_tfidf.best_score_*100:0.3f}%\")\n",
    "clf = gs_lr_tfidf.best_estimator_\n",
    "print(f\"Test Accuracy: {clf.score(Grid_X_test, Grid_y_test)*100:0.3f}%\")"
   ]
  },
  {
   "cell_type": "code",
   "execution_count": null,
   "metadata": {},
   "outputs": [],
   "source": []
  },
  {
   "cell_type": "code",
   "execution_count": 33,
   "metadata": {},
   "outputs": [],
   "source": [
    "def model_Evaluate2(model, bestparams_X_test):\n",
    "    # Predict values for Test dataset\n",
    "    y_pred = model.predict(bestparams_X_test)\n",
    "    # Print the evaluation metrics for the dataset.\n",
    "    print(classification_report(y_test, y_pred))\n",
    "    # Compute and plot the Confusion matrix\n",
    "    cf_matrix = confusion_matrix(y_pred, y_test)\n",
    "#     print(cf_matrix)\n",
    "    categories = ['Negative','Positive']\n",
    "    group_names = ['True Neg ','False Pos ', 'False Neg ','True Pos ']\n",
    "    group_percentages = ['{0:.2%}'.format(value) for value in cf_matrix.flatten() / np.sum(cf_matrix)]\n",
    "    labels = [f'{v1} n {v2}' for v1, v2 in zip(group_names,group_percentages)]\n",
    "    labels = np.asarray(labels).reshape(2,2)\n",
    "    sns.heatmap(cf_matrix, annot = labels, cmap = 'Blues',fmt = '',\n",
    "    xticklabels = categories, yticklabels = categories)\n",
    "    plt.xlabel(\"Predicted values\", fontdict = {'size':14}, labelpad = 10)\n",
    "    plt.ylabel(\"Actual values\" , fontdict = {'size':14}, labelpad = 10)\n",
    "    plt.title (\"Confusion Matrix\", fontdict = {'size':18}, pad = 20)"
   ]
  },
  {
   "cell_type": "code",
   "execution_count": 34,
   "metadata": {
    "scrolled": true
   },
   "outputs": [
    {
     "name": "stderr",
     "output_type": "stream",
     "text": [
      "C:\\Users\\yutao\\anaconda3\\lib\\site-packages\\sklearn\\feature_extraction\\text.py:484: UserWarning: The parameter 'token_pattern' will not be used since 'tokenizer' is not None'\n",
      "  warnings.warn(\"The parameter 'token_pattern' will not be used\"\n"
     ]
    },
    {
     "name": "stdout",
     "output_type": "stream",
     "text": [
      "              precision    recall  f1-score   support\n",
      "\n",
      "    negative       0.90      0.81      0.85       372\n",
      "    positive       0.98      0.99      0.99      3552\n",
      "\n",
      "    accuracy                           0.97      3924\n",
      "   macro avg       0.94      0.90      0.92      3924\n",
      "weighted avg       0.97      0.97      0.97      3924\n",
      "\n",
      "Test Accuracy: 97.324%\n"
     ]
    },
    {
     "data": {
      "image/png": "[encoded data removed]",
      "text/plain": [
       "<Figure size 432x288 with 2 Axes>"
      ]
     },
     "metadata": {
      "needs_background": "light"
     },
     "output_type": "display_data"
    }
   ],
   "source": [
    "# Best params of SVM\n",
    "\n",
    "SVMvectoriser = TfidfVectorizer(#ngram_range = (1,1),\n",
    "                                 norm = None,\n",
    "#                                 stop_words = None, \n",
    "                                 tokenizer = tokenizer,\n",
    "                                 use_idf = False)\n",
    "SVMvectoriser.fit(Original_X_train)\n",
    "#print('No. of feature_words: ', len(SVMvectoriser.get_feature_names()))\n",
    "SVM_X_train = SVMvectoriser.transform(Original_X_train)\n",
    "SVM_X_test = SVMvectoriser.transform(Original_X_test)\n",
    "\n",
    "SVCmodel_grid = LinearSVC(C=1.0,\n",
    "                          penalty = \"l2\")\n",
    "SVCmodel_grid.fit(SVM_X_train, y_train)\n",
    "model_Evaluate2(SVCmodel_grid, SVM_X_test)\n",
    "y_pred2_grid = SVCmodel_grid.predict(SVM_X_test)\n",
    "print(f\"Test Accuracy: {SVCmodel_grid.score(SVM_X_test, y_test)*100:0.3f}%\")"
   ]
  },
  {
   "cell_type": "code",
   "execution_count": 35,
   "metadata": {},
   "outputs": [
    {
     "data": {
      "image/png": "[encoded data removed]",
      "text/plain": [
       "<Figure size 432x288 with 1 Axes>"
      ]
     },
     "metadata": {
      "needs_background": "light"
     },
     "output_type": "display_data"
    }
   ],
   "source": [
    "y_pred2_converted=pd.Series(y_pred2).apply(convert)\n",
    "fpr, tpr, thresholds = roc_curve(y_test_roc, y_pred2_converted)\n",
    "roc_auc = auc(fpr, tpr)\n",
    "y_pred2_grid_converted=pd.Series(y_pred2_grid).apply(convert)\n",
    "fpr1, tpr1, thresholds1 = roc_curve(y_test_roc, y_pred2_grid_converted)\n",
    "roc_auc1 = auc(fpr1, tpr1)\n",
    "plt.figure()\n",
    "plt.plot(fpr, tpr, color='darkorange', lw=1, label='ROC curve before GridSearch (area = %0.2f)' % roc_auc)\n",
    "plt.plot(fpr1, tpr1, color='blue', lw=1, label='ROC curve abfter GridSearch (area = %0.2f)' % roc_auc1)\n",
    "plt.xlim([0.0, 1.0])\n",
    "plt.ylim([0.0, 1.05])\n",
    "plt.xlabel('False Positive Rate')\n",
    "plt.ylabel('True Positive Rate')\n",
    "plt.title('ROC Curve for SVM')\n",
    "plt.legend(loc=\"lower right\")\n",
    "#plt.show()\n",
    "plt.savefig(\"ROC_SVM.png\", bbox_inches='tight')"
   ]
  },
  {
   "cell_type": "code",
   "execution_count": 36,
   "metadata": {},
   "outputs": [
    {
     "name": "stderr",
     "output_type": "stream",
     "text": [
      "C:\\Users\\yutao\\anaconda3\\lib\\site-packages\\sklearn\\feature_extraction\\text.py:484: UserWarning: The parameter 'token_pattern' will not be used since 'tokenizer' is not None'\n",
      "  warnings.warn(\"The parameter 'token_pattern' will not be used\"\n",
      "C:\\Users\\yutao\\anaconda3\\lib\\site-packages\\sklearn\\linear_model\\_logistic.py:762: ConvergenceWarning: lbfgs failed to converge (status=1):\n",
      "STOP: TOTAL NO. of ITERATIONS REACHED LIMIT.\n",
      "\n",
      "Increase the number of iterations (max_iter) or scale the data as shown in:\n",
      "    https://scikit-learn.org/stable/modules/preprocessing.html\n",
      "Please also refer to the documentation for alternative solver options:\n",
      "    https://scikit-learn.org/stable/modules/linear_model.html#logistic-regression\n",
      "  n_iter_i = _check_optimize_result(\n"
     ]
    },
    {
     "name": "stdout",
     "output_type": "stream",
     "text": [
      "              precision    recall  f1-score   support\n",
      "\n",
      "    negative       0.90      0.59      0.72       372\n",
      "    positive       0.96      0.99      0.98      3552\n",
      "\n",
      "    accuracy                           0.96      3924\n",
      "   macro avg       0.93      0.79      0.85      3924\n",
      "weighted avg       0.95      0.96      0.95      3924\n",
      "\n",
      "Test Accuracy: 95.515%\n"
     ]
    },
    {
     "data": {
      "image/png": "[encoded data removed]",
      "text/plain": [
       "<Figure size 432x288 with 2 Axes>"
      ]
     },
     "metadata": {
      "needs_background": "light"
     },
     "output_type": "display_data"
    }
   ],
   "source": [
    "# Best params of Logistic Regression\n",
    "\n",
    "LRvectoriser = TfidfVectorizer(#ngram_range = (1,1),\n",
    "                                 norm = None,\n",
    "#                                 stop_words = None, \n",
    "                                 tokenizer = tokenizer,\n",
    "                                 use_idf = False)\n",
    "LRvectoriser.fit(Original_X_train)\n",
    "#print('No. of feature_words: ', len(SVMvectoriser.get_feature_names()))\n",
    "LR_X_train = LRvectoriser.transform(Original_X_train)\n",
    "LR_X_test = LRvectoriser.transform(Original_X_test)\n",
    "\n",
    "LRmodel_grid = LogisticRegression(C=1.0,\n",
    "                          penalty = \"l2\")\n",
    "LRmodel_grid.fit(LR_X_train, y_train)\n",
    "model_Evaluate2(LRmodel_grid, LR_X_test)\n",
    "y_pred3_grid = LRmodel_grid.predict(LR_X_test)\n",
    "print(f\"Test Accuracy: {LRmodel_grid.score(LR_X_test, y_test)*100:0.3f}%\")"
   ]
  },
  {
   "cell_type": "code",
   "execution_count": 37,
   "metadata": {},
   "outputs": [
    {
     "data": {
      "image/png": "[encoded data removed]",
      "text/plain": [
       "<Figure size 432x288 with 1 Axes>"
      ]
     },
     "metadata": {
      "needs_background": "light"
     },
     "output_type": "display_data"
    }
   ],
   "source": [
    "y_pred3_converted=pd.Series(y_pred3).apply(convert)\n",
    "fpr, tpr, thresholds = roc_curve(y_test_roc, y_pred3_converted)\n",
    "roc_auc = auc(fpr, tpr)\n",
    "y_pred3_grid_converted=pd.Series(y_pred3_grid).apply(convert)\n",
    "fpr1, tpr1, thresholds1 = roc_curve(y_test_roc, y_pred3_grid_converted)\n",
    "roc_auc1 = auc(fpr1, tpr1)\n",
    "plt.figure()\n",
    "plt.plot(fpr, tpr, color='darkorange', lw=1, label='ROC curve before GridSearch (area = %0.2f)' % roc_auc)\n",
    "plt.plot(fpr1, tpr1, color='blue', lw=1, label='ROC curve abfter GridSearch (area = %0.2f)' % roc_auc1)\n",
    "plt.xlim([0.0, 1.0])\n",
    "plt.ylim([0.0, 1.05])\n",
    "plt.xlabel('False Positive Rate')\n",
    "plt.ylabel('True Positive Rate')\n",
    "plt.title('ROC Curve for Logistic Regression')\n",
    "plt.legend(loc=\"lower right\")\n",
    "#plt.show()\n",
    "plt.savefig('ROC_LR.png', bbox_inches='tight')"
   ]
  },
  {
   "cell_type": "code",
   "execution_count": 38,
   "metadata": {},
   "outputs": [
    {
     "name": "stderr",
     "output_type": "stream",
     "text": [
      "C:\\Users\\yutao\\anaconda3\\lib\\site-packages\\sklearn\\feature_extraction\\text.py:484: UserWarning: The parameter 'token_pattern' will not be used since 'tokenizer' is not None'\n",
      "  warnings.warn(\"The parameter 'token_pattern' will not be used\"\n"
     ]
    },
    {
     "name": "stdout",
     "output_type": "stream",
     "text": [
      "              precision    recall  f1-score   support\n",
      "\n",
      "    negative       0.89      0.76      0.82       372\n",
      "    positive       0.97      0.99      0.98      3552\n",
      "\n",
      "    accuracy                           0.97      3924\n",
      "   macro avg       0.93      0.87      0.90      3924\n",
      "weighted avg       0.97      0.97      0.97      3924\n",
      "\n",
      "Test Accuracy: 96.764%\n"
     ]
    },
    {
     "data": {
      "image/png": "[encoded data removed]",
      "text/plain": [
       "<Figure size 432x288 with 2 Axes>"
      ]
     },
     "metadata": {
      "needs_background": "light"
     },
     "output_type": "display_data"
    }
   ],
   "source": [
    "# Best params for Random Forest\n",
    "\n",
    "RFvectoriser = TfidfVectorizer(#ngram_range = (1,1),\n",
    "                                 norm = None,\n",
    "#                                 stop_words = None, \n",
    "                                 tokenizer = tokenizer_porter,\n",
    "                                 use_idf = False)\n",
    "RFvectoriser.fit(Original_X_train)\n",
    "#print('No. of feature_words: ', len(SVMvectoriser.get_feature_names()))\n",
    "RF_X_train = RFvectoriser.transform(Original_X_train)\n",
    "RF_X_test = RFvectoriser.transform(Original_X_test)\n",
    "\n",
    "RFmodel_grid = RandomForestClassifier(n_estimators=200, random_state=0)\n",
    "RFmodel_grid.fit(RF_X_train, y_train)\n",
    "model_Evaluate2(RFmodel_grid, RF_X_test)\n",
    "y_pred1_grid = RFmodel_grid.predict(RF_X_test)\n",
    "print(f\"Test Accuracy: {RFmodel_grid.score(RF_X_test, y_test)*100:0.3f}%\")"
   ]
  },
  {
   "cell_type": "code",
   "execution_count": 39,
   "metadata": {},
   "outputs": [
    {
     "data": {
      "image/png": "[encoded data removed]",
      "text/plain": [
       "<Figure size 432x288 with 1 Axes>"
      ]
     },
     "metadata": {
      "needs_background": "light"
     },
     "output_type": "display_data"
    }
   ],
   "source": [
    "y_predRF_converted=pd.Series(predictions).apply(convert)\n",
    "fpr, tpr, thresholds = roc_curve(y_test_roc, y_predRF_converted)\n",
    "roc_auc = auc(fpr, tpr)\n",
    "y_pred1_grid_converted=pd.Series(y_pred1_grid).apply(convert)\n",
    "fpr1, tpr1, thresholds1 = roc_curve(y_test_roc, y_pred1_grid_converted)\n",
    "roc_auc1 = auc(fpr1, tpr1)\n",
    "plt.figure()\n",
    "plt.plot(fpr, tpr, color='darkorange', lw=1, label='ROC curve before GridSearch (area = %0.2f)' % roc_auc)\n",
    "plt.plot(fpr1, tpr1, color='blue', lw=1, label='ROC curve abfter GridSearch (area = %0.2f)' % roc_auc1)\n",
    "plt.xlim([0.0, 1.0])\n",
    "plt.ylim([0.0, 1.05])\n",
    "plt.xlabel('False Positive Rate')\n",
    "plt.ylabel('True Positive Rate')\n",
    "plt.title('ROC Curve for Random Forest')\n",
    "plt.legend(loc=\"lower right\")\n",
    "#plt.show()\n",
    "plt.savefig('ROC_RF.png', bbox_inches='tight')"
   ]
  }
 ],
 "metadata": {
  "kernelspec": {
   "display_name": "Python 3",
   "language": "python",
   "name": "python3"
  },
  "language_info": {
   "codemirror_mode": {
    "name": "ipython",
    "version": 3
   },
   "file_extension": ".py",
   "mimetype": "text/x-python",
   "name": "python",
   "nbconvert_exporter": "python",
   "pygments_lexer": "ipython3",
   "version": "3.8.5"
  }
 },
 "nbformat": 4,
 "nbformat_minor": 4
}
