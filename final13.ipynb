{
 "cells": [
  {
   "cell_type": "code",
   "execution_count": 1,
   "metadata": {},
   "outputs": [],
   "source": [
    "from wordcloud import WordCloud\n",
    "from nltk.stem import WordNetLemmatizer\n",
    "# sklearn\n",
    "from sklearn.svm import LinearSVC\n",
    "from sklearn.naive_bayes import BernoulliNB\n",
    "from sklearn.linear_model import LogisticRegression\n",
    "from sklearn.model_selection import train_test_split\n",
    "from sklearn.feature_extraction.text import TfidfVectorizer\n",
    "from sklearn.metrics import confusion_matrix, classification_report"
   ]
  },
  {
   "cell_type": "code",
   "execution_count": 2,
   "metadata": {},
   "outputs": [
    {
     "name": "stderr",
     "output_type": "stream",
     "text": [
      "[nltk_data] Downloading package stopwords to\n",
      "[nltk_data]     C:\\Users\\Yatin\\AppData\\Roaming\\nltk_data...\n",
      "[nltk_data]   Package stopwords is already up-to-date!\n"
     ]
    }
   ],
   "source": [
    "import numpy as np\n",
    "import pandas as pd\n",
    "import matplotlib.pyplot as plt\n",
    "import seaborn as sns\n",
    "import re\n",
    "import nltk\n",
    "nltk.download('stopwords')\n",
    "from nltk.corpus import stopwords\n",
    "from textblob import TextBlob\n",
    "from wordcloud import WordCloud\n",
    "from sklearn.feature_extraction.text import CountVectorizer"
   ]
  },
  {
   "cell_type": "code",
   "execution_count": 3,
   "metadata": {},
   "outputs": [
    {
     "data": {
      "text/html": [
       "<div>\n",
       "<style scoped>\n",
       "    .dataframe tbody tr th:only-of-type {\n",
       "        vertical-align: middle;\n",
       "    }\n",
       "\n",
       "    .dataframe tbody tr th {\n",
       "        vertical-align: top;\n",
       "    }\n",
       "\n",
       "    .dataframe thead th {\n",
       "        text-align: right;\n",
       "    }\n",
       "</style>\n",
       "<table border=\"1\" class=\"dataframe\">\n",
       "  <thead>\n",
       "    <tr style=\"text-align: right;\">\n",
       "      <th></th>\n",
       "      <th>id</th>\n",
       "      <th>user_name</th>\n",
       "      <th>user_location</th>\n",
       "      <th>user_description</th>\n",
       "      <th>user_created</th>\n",
       "      <th>user_followers</th>\n",
       "      <th>user_friends</th>\n",
       "      <th>user_favourites</th>\n",
       "      <th>user_verified</th>\n",
       "      <th>date</th>\n",
       "      <th>text</th>\n",
       "      <th>hashtags</th>\n",
       "      <th>source</th>\n",
       "      <th>retweets</th>\n",
       "      <th>favorites</th>\n",
       "      <th>is_retweet</th>\n",
       "    </tr>\n",
       "  </thead>\n",
       "  <tbody>\n",
       "    <tr>\n",
       "      <th>0</th>\n",
       "      <td>1340539111971516416</td>\n",
       "      <td>Rachel Roh</td>\n",
       "      <td>La Crescenta-Montrose, CA</td>\n",
       "      <td>Aggregator of Asian American news; scanning diverse sources 24/7/365. RT's, Follows and 'Likes' will fuel me 👩‍💻</td>\n",
       "      <td>2009-04-08 17:52:46</td>\n",
       "      <td>405</td>\n",
       "      <td>1692</td>\n",
       "      <td>3247</td>\n",
       "      <td>False</td>\n",
       "      <td>2020-12-20 06:06:44</td>\n",
       "      <td>Same folks said daikon paste could treat a cytokine storm #PfizerBioNTech https://t.co/xeHhIMg1kF</td>\n",
       "      <td>['PfizerBioNTech']</td>\n",
       "      <td>Twitter for Android</td>\n",
       "      <td>0</td>\n",
       "      <td>0</td>\n",
       "      <td>False</td>\n",
       "    </tr>\n",
       "    <tr>\n",
       "      <th>1</th>\n",
       "      <td>1338158543359250433</td>\n",
       "      <td>Albert Fong</td>\n",
       "      <td>San Francisco, CA</td>\n",
       "      <td>Marketing dude, tech geek, heavy metal &amp; '80s music junkie. Fascinated by meteorology and all things in the cloud. Opinions are my own.</td>\n",
       "      <td>2009-09-21 15:27:30</td>\n",
       "      <td>834</td>\n",
       "      <td>666</td>\n",
       "      <td>178</td>\n",
       "      <td>False</td>\n",
       "      <td>2020-12-13 16:27:13</td>\n",
       "      <td>While the world has been on the wrong side of history this year, hopefully, the biggest vaccination effort we've ev… https://t.co/dlCHrZjkhm</td>\n",
       "      <td>NaN</td>\n",
       "      <td>Twitter Web App</td>\n",
       "      <td>1</td>\n",
       "      <td>1</td>\n",
       "      <td>False</td>\n",
       "    </tr>\n",
       "    <tr>\n",
       "      <th>2</th>\n",
       "      <td>1337858199140118533</td>\n",
       "      <td>eli🇱🇹🇪🇺👌</td>\n",
       "      <td>Your Bed</td>\n",
       "      <td>heil, hydra 🖐☺</td>\n",
       "      <td>2020-06-25 23:30:28</td>\n",
       "      <td>10</td>\n",
       "      <td>88</td>\n",
       "      <td>155</td>\n",
       "      <td>False</td>\n",
       "      <td>2020-12-12 20:33:45</td>\n",
       "      <td>#coronavirus #SputnikV #AstraZeneca #PfizerBioNTech #Moderna #Covid_19 Russian vaccine is created to last 2-4 years… https://t.co/ieYlCKBr8P</td>\n",
       "      <td>['coronavirus', 'SputnikV', 'AstraZeneca', 'PfizerBioNTech', 'Moderna', 'Covid_19']</td>\n",
       "      <td>Twitter for Android</td>\n",
       "      <td>0</td>\n",
       "      <td>0</td>\n",
       "      <td>False</td>\n",
       "    </tr>\n",
       "    <tr>\n",
       "      <th>3</th>\n",
       "      <td>1337855739918835717</td>\n",
       "      <td>Charles Adler</td>\n",
       "      <td>Vancouver, BC - Canada</td>\n",
       "      <td>Hosting \"CharlesAdlerTonight\" Global News Radio Network. Weeknights 7 Pacific-10 Eastern - Email comments/ideas to charles@charlesadlertonight.ca</td>\n",
       "      <td>2008-09-10 11:28:53</td>\n",
       "      <td>49165</td>\n",
       "      <td>3933</td>\n",
       "      <td>21853</td>\n",
       "      <td>True</td>\n",
       "      <td>2020-12-12 20:23:59</td>\n",
       "      <td>Facts are immutable, Senator, even when you're not ethically sturdy enough to acknowledge them. (1) You were born i… https://t.co/jqgV18kch4</td>\n",
       "      <td>NaN</td>\n",
       "      <td>Twitter Web App</td>\n",
       "      <td>446</td>\n",
       "      <td>2129</td>\n",
       "      <td>False</td>\n",
       "    </tr>\n",
       "    <tr>\n",
       "      <th>4</th>\n",
       "      <td>1337854064604966912</td>\n",
       "      <td>Citizen News Channel</td>\n",
       "      <td>NaN</td>\n",
       "      <td>Citizen News Channel bringing you an alternative news source from citizen journalists that haven't sold out. Real news &amp; real views</td>\n",
       "      <td>2020-04-23 17:58:42</td>\n",
       "      <td>152</td>\n",
       "      <td>580</td>\n",
       "      <td>1473</td>\n",
       "      <td>False</td>\n",
       "      <td>2020-12-12 20:17:19</td>\n",
       "      <td>Explain to me again why we need a vaccine @BorisJohnson @MattHancock #whereareallthesickpeople #PfizerBioNTech… https://t.co/KxbSRoBEHq</td>\n",
       "      <td>['whereareallthesickpeople', 'PfizerBioNTech']</td>\n",
       "      <td>Twitter for iPhone</td>\n",
       "      <td>0</td>\n",
       "      <td>0</td>\n",
       "      <td>False</td>\n",
       "    </tr>\n",
       "  </tbody>\n",
       "</table>\n",
       "</div>"
      ],
      "text/plain": [
       "                    id             user_name              user_location  \\\n",
       "0  1340539111971516416            Rachel Roh  La Crescenta-Montrose, CA   \n",
       "1  1338158543359250433           Albert Fong          San Francisco, CA   \n",
       "2  1337858199140118533              eli🇱🇹🇪🇺👌                   Your Bed   \n",
       "3  1337855739918835717         Charles Adler     Vancouver, BC - Canada   \n",
       "4  1337854064604966912  Citizen News Channel                        NaN   \n",
       "\n",
       "                                                                                                                                    user_description  \\\n",
       "0                                   Aggregator of Asian American news; scanning diverse sources 24/7/365. RT's, Follows and 'Likes' will fuel me 👩‍💻   \n",
       "1            Marketing dude, tech geek, heavy metal & '80s music junkie. Fascinated by meteorology and all things in the cloud. Opinions are my own.   \n",
       "2                                                                                                                                     heil, hydra 🖐☺   \n",
       "3  Hosting \"CharlesAdlerTonight\" Global News Radio Network. Weeknights 7 Pacific-10 Eastern - Email comments/ideas to charles@charlesadlertonight.ca   \n",
       "4                Citizen News Channel bringing you an alternative news source from citizen journalists that haven't sold out. Real news & real views   \n",
       "\n",
       "          user_created  user_followers  user_friends  user_favourites  \\\n",
       "0  2009-04-08 17:52:46             405          1692             3247   \n",
       "1  2009-09-21 15:27:30             834           666              178   \n",
       "2  2020-06-25 23:30:28              10            88              155   \n",
       "3  2008-09-10 11:28:53           49165          3933            21853   \n",
       "4  2020-04-23 17:58:42             152           580             1473   \n",
       "\n",
       "   user_verified                 date  \\\n",
       "0          False  2020-12-20 06:06:44   \n",
       "1          False  2020-12-13 16:27:13   \n",
       "2          False  2020-12-12 20:33:45   \n",
       "3           True  2020-12-12 20:23:59   \n",
       "4          False  2020-12-12 20:17:19   \n",
       "\n",
       "                                                                                                                                           text  \\\n",
       "0                                             Same folks said daikon paste could treat a cytokine storm #PfizerBioNTech https://t.co/xeHhIMg1kF   \n",
       "1  While the world has been on the wrong side of history this year, hopefully, the biggest vaccination effort we've ev… https://t.co/dlCHrZjkhm   \n",
       "2  #coronavirus #SputnikV #AstraZeneca #PfizerBioNTech #Moderna #Covid_19 Russian vaccine is created to last 2-4 years… https://t.co/ieYlCKBr8P   \n",
       "3  Facts are immutable, Senator, even when you're not ethically sturdy enough to acknowledge them. (1) You were born i… https://t.co/jqgV18kch4   \n",
       "4       Explain to me again why we need a vaccine @BorisJohnson @MattHancock #whereareallthesickpeople #PfizerBioNTech… https://t.co/KxbSRoBEHq   \n",
       "\n",
       "                                                                              hashtags  \\\n",
       "0                                                                   ['PfizerBioNTech']   \n",
       "1                                                                                  NaN   \n",
       "2  ['coronavirus', 'SputnikV', 'AstraZeneca', 'PfizerBioNTech', 'Moderna', 'Covid_19']   \n",
       "3                                                                                  NaN   \n",
       "4                                       ['whereareallthesickpeople', 'PfizerBioNTech']   \n",
       "\n",
       "                source  retweets  favorites  is_retweet  \n",
       "0  Twitter for Android         0          0       False  \n",
       "1      Twitter Web App         1          1       False  \n",
       "2  Twitter for Android         0          0       False  \n",
       "3      Twitter Web App       446       2129       False  \n",
       "4   Twitter for iPhone         0          0       False  "
      ]
     },
     "execution_count": 3,
     "metadata": {},
     "output_type": "execute_result"
    }
   ],
   "source": [
    "pd.set_option('display.max_colwidth', 900, \"display.max_columns\", 30, \"display.max_rows\", 100)\n",
    "tweets_whole = pd.read_csv('vaccination_all_tweets.csv')\n",
    "tweets_whole.head(5)"
   ]
  },
  {
   "cell_type": "code",
   "execution_count": 4,
   "metadata": {},
   "outputs": [
    {
     "name": "stdout",
     "output_type": "stream",
     "text": [
      "<class 'pandas.core.frame.DataFrame'>\n",
      "RangeIndex: 33717 entries, 0 to 33716\n",
      "Data columns (total 4 columns):\n",
      " #   Column    Non-Null Count  Dtype \n",
      "---  ------    --------------  ----- \n",
      " 0   id        33717 non-null  int64 \n",
      " 1   date      33717 non-null  object\n",
      " 2   text      33717 non-null  object\n",
      " 3   hashtags  33717 non-null  object\n",
      "dtypes: int64(1), object(3)\n",
      "memory usage: 1.0+ MB\n"
     ]
    }
   ],
   "source": [
    "tweets_data = tweets_whole.drop(['user_name', 'user_location', \n",
    "                                'user_description', 'user_created', \n",
    "                                'user_followers', 'user_friends', \n",
    "                                'user_favourites', 'user_verified', \n",
    "                                'source', 'retweets', 'favorites', 'is_retweet'], axis=1)\n",
    "\n",
    "tweets_data['date'] = pd.to_datetime(tweets_data['date']).dt.date\n",
    "tweets_data['hashtags'] = tweets_data['hashtags'].fillna('Notags')\n",
    "tweets_data['hashtags'] = [re.sub(\"[(\\[\\')|(\\]\\')|\\s]\", '', tags) for tags in tweets_data['hashtags']]\n",
    "tweets_data.info()"
   ]
  },
  {
   "cell_type": "code",
   "execution_count": 5,
   "metadata": {},
   "outputs": [
    {
     "data": {
      "text/html": [
       "<div>\n",
       "<style scoped>\n",
       "    .dataframe tbody tr th:only-of-type {\n",
       "        vertical-align: middle;\n",
       "    }\n",
       "\n",
       "    .dataframe tbody tr th {\n",
       "        vertical-align: top;\n",
       "    }\n",
       "\n",
       "    .dataframe thead th {\n",
       "        text-align: right;\n",
       "    }\n",
       "</style>\n",
       "<table border=\"1\" class=\"dataframe\">\n",
       "  <thead>\n",
       "    <tr style=\"text-align: right;\">\n",
       "      <th></th>\n",
       "      <th>id</th>\n",
       "      <th>date</th>\n",
       "      <th>text</th>\n",
       "      <th>hashtags</th>\n",
       "    </tr>\n",
       "  </thead>\n",
       "  <tbody>\n",
       "    <tr>\n",
       "      <th>0</th>\n",
       "      <td>1340539111971516416</td>\n",
       "      <td>2020-12-20</td>\n",
       "      <td>Same folks said daikon paste could treat a cytokine storm #PfizerBioNTech https://t.co/xeHhIMg1kF</td>\n",
       "      <td>PfizerBioNTech</td>\n",
       "    </tr>\n",
       "    <tr>\n",
       "      <th>1</th>\n",
       "      <td>1338158543359250433</td>\n",
       "      <td>2020-12-13</td>\n",
       "      <td>While the world has been on the wrong side of history this year, hopefully, the biggest vaccination effort we've ev… https://t.co/dlCHrZjkhm</td>\n",
       "      <td>Notags</td>\n",
       "    </tr>\n",
       "  </tbody>\n",
       "</table>\n",
       "</div>"
      ],
      "text/plain": [
       "                    id        date  \\\n",
       "0  1340539111971516416  2020-12-20   \n",
       "1  1338158543359250433  2020-12-13   \n",
       "\n",
       "                                                                                                                                           text  \\\n",
       "0                                             Same folks said daikon paste could treat a cytokine storm #PfizerBioNTech https://t.co/xeHhIMg1kF   \n",
       "1  While the world has been on the wrong side of history this year, hopefully, the biggest vaccination effort we've ev… https://t.co/dlCHrZjkhm   \n",
       "\n",
       "         hashtags  \n",
       "0  PfizerBioNTech  \n",
       "1          Notags  "
      ]
     },
     "execution_count": 5,
     "metadata": {},
     "output_type": "execute_result"
    }
   ],
   "source": [
    "tweets_data.head(2)"
   ]
  },
  {
   "cell_type": "code",
   "execution_count": 6,
   "metadata": {},
   "outputs": [
    {
     "data": {
      "text/plain": [
       "0                                  Same folks said daikon paste could treat cytokine storm\n",
       "1      While world wrong side history year, hopefully, biggest vaccination effort we've ev\n",
       "2                                                   Russian vaccine created last 2-4 years\n",
       "3    Facts immutable, Senator, even ethically sturdy enough acknowledge them. (1) You born\n",
       "4                                                                     Explain need vaccine\n",
       "Name: text_nlp, dtype: object"
      ]
     },
     "execution_count": 6,
     "metadata": {},
     "output_type": "execute_result"
    }
   ],
   "source": [
    "# prepare stopwords\n",
    "stopwords = set(stopwords.words('english'))\n",
    "\n",
    "# this 'deEmojify': via https://www.kaggle.com/sharibkhan/my-first-semantic-analysis-problem-in-nlp\n",
    "def deEmojify(inputString):\n",
    "    return inputString.encode('ascii', 'ignore').decode('ascii')\n",
    "\n",
    "def nlp(text):\n",
    "    corpus = []\n",
    "    text = deEmojify(text)\n",
    "    text = re.sub('http\\S+', '', text) # remove url\n",
    "    text = re.sub('#\\w+', '', text) # remove hashtags\n",
    "    text = re.sub('@[^\\s]+', '', text) # remove @twitter_id\n",
    "    text = text.split()\n",
    "    corpus = [txt for txt in text if not txt in stopwords]\n",
    "    return ' '.join(corpus)\n",
    "\n",
    "tweets_data['text_nlp'] = tweets_data['text'].apply(lambda x: nlp(x))\n",
    "tweets_data['text_nlp'].head()\n"
   ]
  },
  {
   "cell_type": "code",
   "execution_count": 7,
   "metadata": {},
   "outputs": [
    {
     "name": "stdout",
     "output_type": "stream",
     "text": [
      "Trump announces rollout 'in less 24 hours' The first Americans vaccinated\n",
      "pola 0.04166666666666667 subj 0.19999999999999998\n"
     ]
    }
   ],
   "source": [
    "# sample = tweets_data['text_nlp'][22]\n",
    "# print(sample)\n",
    "\n",
    "# testimonial = TextBlob(sample)\n",
    "# pola = testimonial.sentiment.polarity\n",
    "# subj = testimonial.sentiment.subjectivity\n",
    "# print('pola', pola, 'subj', subj)"
   ]
  },
  {
   "cell_type": "code",
   "execution_count": 8,
   "metadata": {},
   "outputs": [
    {
     "name": "stdout",
     "output_type": "stream",
     "text": [
      "Thank you, but I finally use other items another gave me\n",
      "pola -0.0625 subj 0.6875\n"
     ]
    }
   ],
   "source": [
    "# sample = 'Thank you, but I finally use other items another gave me'\n",
    "# print(sample)\n",
    "\n",
    "# testimonial = TextBlob(sample)\n",
    "# pola = testimonial.sentiment.polarity\n",
    "# subj = testimonial.sentiment.subjectivity\n",
    "# print('pola', pola, 'subj', subj)"
   ]
  },
  {
   "cell_type": "code",
   "execution_count": 49,
   "metadata": {},
   "outputs": [
    {
     "data": {
      "text/html": [
       "<div>\n",
       "<style scoped>\n",
       "    .dataframe tbody tr th:only-of-type {\n",
       "        vertical-align: middle;\n",
       "    }\n",
       "\n",
       "    .dataframe tbody tr th {\n",
       "        vertical-align: top;\n",
       "    }\n",
       "\n",
       "    .dataframe thead th {\n",
       "        text-align: right;\n",
       "    }\n",
       "</style>\n",
       "<table border=\"1\" class=\"dataframe\">\n",
       "  <thead>\n",
       "    <tr style=\"text-align: right;\">\n",
       "      <th></th>\n",
       "      <th>id</th>\n",
       "      <th>date</th>\n",
       "      <th>text</th>\n",
       "      <th>hashtags</th>\n",
       "      <th>text_nlp</th>\n",
       "      <th>polarity</th>\n",
       "      <th>subjectivity</th>\n",
       "      <th>sentiment</th>\n",
       "    </tr>\n",
       "  </thead>\n",
       "  <tbody>\n",
       "    <tr>\n",
       "      <th>0</th>\n",
       "      <td>1340539111971516416</td>\n",
       "      <td>2020-12-20</td>\n",
       "      <td>Same folks said daikon paste could treat a cytokine storm #PfizerBioNTech https://t.co/xeHhIMg1kF</td>\n",
       "      <td>PfizerBioNTech</td>\n",
       "      <td>Same folks said daikon paste could treat cytokine storm</td>\n",
       "      <td>0.000</td>\n",
       "      <td>0.125000</td>\n",
       "      <td>Positive</td>\n",
       "    </tr>\n",
       "    <tr>\n",
       "      <th>1</th>\n",
       "      <td>1338158543359250433</td>\n",
       "      <td>2020-12-13</td>\n",
       "      <td>While the world has been on the wrong side of history this year, hopefully, the biggest vaccination effort we've ev… https://t.co/dlCHrZjkhm</td>\n",
       "      <td>Notags</td>\n",
       "      <td>While world wrong side history year, hopefully, biggest vaccination effort we've ev</td>\n",
       "      <td>-0.500</td>\n",
       "      <td>0.900000</td>\n",
       "      <td>Negative</td>\n",
       "    </tr>\n",
       "    <tr>\n",
       "      <th>2</th>\n",
       "      <td>1337858199140118533</td>\n",
       "      <td>2020-12-12</td>\n",
       "      <td>#coronavirus #SputnikV #AstraZeneca #PfizerBioNTech #Moderna #Covid_19 Russian vaccine is created to last 2-4 years… https://t.co/ieYlCKBr8P</td>\n",
       "      <td>coronavirus,SputnikV,AstraZeneca,PfizerBioNTech,Moderna,Covid_19</td>\n",
       "      <td>Russian vaccine created last 2-4 years</td>\n",
       "      <td>0.000</td>\n",
       "      <td>0.033333</td>\n",
       "      <td>Positive</td>\n",
       "    </tr>\n",
       "    <tr>\n",
       "      <th>3</th>\n",
       "      <td>1337855739918835717</td>\n",
       "      <td>2020-12-12</td>\n",
       "      <td>Facts are immutable, Senator, even when you're not ethically sturdy enough to acknowledge them. (1) You were born i… https://t.co/jqgV18kch4</td>\n",
       "      <td>Notags</td>\n",
       "      <td>Facts immutable, Senator, even ethically sturdy enough acknowledge them. (1) You born</td>\n",
       "      <td>0.100</td>\n",
       "      <td>0.550000</td>\n",
       "      <td>Positive</td>\n",
       "    </tr>\n",
       "    <tr>\n",
       "      <th>4</th>\n",
       "      <td>1337854064604966912</td>\n",
       "      <td>2020-12-12</td>\n",
       "      <td>Explain to me again why we need a vaccine @BorisJohnson @MattHancock #whereareallthesickpeople #PfizerBioNTech… https://t.co/KxbSRoBEHq</td>\n",
       "      <td>whereareallthesickpeople,PfizerBioNTech</td>\n",
       "      <td>Explain need vaccine</td>\n",
       "      <td>0.000</td>\n",
       "      <td>0.000000</td>\n",
       "      <td>Positive</td>\n",
       "    </tr>\n",
       "    <tr>\n",
       "      <th>5</th>\n",
       "      <td>1337852648389832708</td>\n",
       "      <td>2020-12-12</td>\n",
       "      <td>Does anyone have any useful advice/guidance for whether the COVID vaccine is safe whilst breastfeeding?… https://t.co/EifsyQoeKN</td>\n",
       "      <td>Notags</td>\n",
       "      <td>Does anyone useful advice/guidance whether COVID vaccine safe whilst breastfeeding?</td>\n",
       "      <td>0.400</td>\n",
       "      <td>0.250000</td>\n",
       "      <td>Positive</td>\n",
       "    </tr>\n",
       "    <tr>\n",
       "      <th>6</th>\n",
       "      <td>1337851215875608579</td>\n",
       "      <td>2020-12-12</td>\n",
       "      <td>it is a bit sad to claim the fame for success of #vaccination on patriotic competition between USA, Canada, UK and… https://t.co/IfMrAyGyTP</td>\n",
       "      <td>vaccination</td>\n",
       "      <td>bit sad claim fame success patriotic competition USA, Canada, UK</td>\n",
       "      <td>-0.100</td>\n",
       "      <td>0.500000</td>\n",
       "      <td>Negative</td>\n",
       "    </tr>\n",
       "    <tr>\n",
       "      <th>7</th>\n",
       "      <td>1337850832256176136</td>\n",
       "      <td>2020-12-12</td>\n",
       "      <td>There have not been many bright days in 2020 but here are some of the best \\n1. #BidenHarris winning #Election2020… https://t.co/77u4f8XXfx</td>\n",
       "      <td>BidenHarris,Election2020</td>\n",
       "      <td>There many bright days 2020 best 1. winning</td>\n",
       "      <td>0.675</td>\n",
       "      <td>0.587500</td>\n",
       "      <td>Positive</td>\n",
       "    </tr>\n",
       "    <tr>\n",
       "      <th>8</th>\n",
       "      <td>1337850023531347969</td>\n",
       "      <td>2020-12-12</td>\n",
       "      <td>Covid vaccine; You getting it?\\n\\n #CovidVaccine #covid19 #PfizerBioNTech #Moderna</td>\n",
       "      <td>CovidVaccine,covid19,PfizerBioNTech,Moderna</td>\n",
       "      <td>Covid vaccine; You getting it?</td>\n",
       "      <td>0.000</td>\n",
       "      <td>0.000000</td>\n",
       "      <td>Positive</td>\n",
       "    </tr>\n",
       "    <tr>\n",
       "      <th>9</th>\n",
       "      <td>1337842295857623042</td>\n",
       "      <td>2020-12-12</td>\n",
       "      <td>#CovidVaccine \\n\\nStates will start getting #COVID19Vaccine Monday, #US says \\n#pakustv #NYC #Healthcare #GlobalGoals… https://t.co/MksOvBvs5w</td>\n",
       "      <td>CovidVaccine,COVID19Vaccine,US,pakustv,NYC,Healthcare,GlobalGoals</td>\n",
       "      <td>States start getting Monday, says</td>\n",
       "      <td>0.000</td>\n",
       "      <td>0.000000</td>\n",
       "      <td>Positive</td>\n",
       "    </tr>\n",
       "  </tbody>\n",
       "</table>\n",
       "</div>"
      ],
      "text/plain": [
       "                    id        date  \\\n",
       "0  1340539111971516416  2020-12-20   \n",
       "1  1338158543359250433  2020-12-13   \n",
       "2  1337858199140118533  2020-12-12   \n",
       "3  1337855739918835717  2020-12-12   \n",
       "4  1337854064604966912  2020-12-12   \n",
       "5  1337852648389832708  2020-12-12   \n",
       "6  1337851215875608579  2020-12-12   \n",
       "7  1337850832256176136  2020-12-12   \n",
       "8  1337850023531347969  2020-12-12   \n",
       "9  1337842295857623042  2020-12-12   \n",
       "\n",
       "                                                                                                                                             text  \\\n",
       "0                                               Same folks said daikon paste could treat a cytokine storm #PfizerBioNTech https://t.co/xeHhIMg1kF   \n",
       "1    While the world has been on the wrong side of history this year, hopefully, the biggest vaccination effort we've ev… https://t.co/dlCHrZjkhm   \n",
       "2    #coronavirus #SputnikV #AstraZeneca #PfizerBioNTech #Moderna #Covid_19 Russian vaccine is created to last 2-4 years… https://t.co/ieYlCKBr8P   \n",
       "3    Facts are immutable, Senator, even when you're not ethically sturdy enough to acknowledge them. (1) You were born i… https://t.co/jqgV18kch4   \n",
       "4         Explain to me again why we need a vaccine @BorisJohnson @MattHancock #whereareallthesickpeople #PfizerBioNTech… https://t.co/KxbSRoBEHq   \n",
       "5                Does anyone have any useful advice/guidance for whether the COVID vaccine is safe whilst breastfeeding?… https://t.co/EifsyQoeKN   \n",
       "6     it is a bit sad to claim the fame for success of #vaccination on patriotic competition between USA, Canada, UK and… https://t.co/IfMrAyGyTP   \n",
       "7     There have not been many bright days in 2020 but here are some of the best \\n1. #BidenHarris winning #Election2020… https://t.co/77u4f8XXfx   \n",
       "8                                                              Covid vaccine; You getting it?\\n\\n #CovidVaccine #covid19 #PfizerBioNTech #Moderna   \n",
       "9  #CovidVaccine \\n\\nStates will start getting #COVID19Vaccine Monday, #US says \\n#pakustv #NYC #Healthcare #GlobalGoals… https://t.co/MksOvBvs5w   \n",
       "\n",
       "                                                            hashtags  \\\n",
       "0                                                     PfizerBioNTech   \n",
       "1                                                             Notags   \n",
       "2   coronavirus,SputnikV,AstraZeneca,PfizerBioNTech,Moderna,Covid_19   \n",
       "3                                                             Notags   \n",
       "4                            whereareallthesickpeople,PfizerBioNTech   \n",
       "5                                                             Notags   \n",
       "6                                                        vaccination   \n",
       "7                                           BidenHarris,Election2020   \n",
       "8                        CovidVaccine,covid19,PfizerBioNTech,Moderna   \n",
       "9  CovidVaccine,COVID19Vaccine,US,pakustv,NYC,Healthcare,GlobalGoals   \n",
       "\n",
       "                                                                                text_nlp  \\\n",
       "0                                Same folks said daikon paste could treat cytokine storm   \n",
       "1    While world wrong side history year, hopefully, biggest vaccination effort we've ev   \n",
       "2                                                 Russian vaccine created last 2-4 years   \n",
       "3  Facts immutable, Senator, even ethically sturdy enough acknowledge them. (1) You born   \n",
       "4                                                                   Explain need vaccine   \n",
       "5    Does anyone useful advice/guidance whether COVID vaccine safe whilst breastfeeding?   \n",
       "6                       bit sad claim fame success patriotic competition USA, Canada, UK   \n",
       "7                                            There many bright days 2020 best 1. winning   \n",
       "8                                                         Covid vaccine; You getting it?   \n",
       "9                                                      States start getting Monday, says   \n",
       "\n",
       "   polarity  subjectivity sentiment  \n",
       "0     0.000      0.125000  Positive  \n",
       "1    -0.500      0.900000  Negative  \n",
       "2     0.000      0.033333  Positive  \n",
       "3     0.100      0.550000  Positive  \n",
       "4     0.000      0.000000  Positive  \n",
       "5     0.400      0.250000  Positive  \n",
       "6    -0.100      0.500000  Negative  \n",
       "7     0.675      0.587500  Positive  \n",
       "8     0.000      0.000000  Positive  \n",
       "9     0.000      0.000000  Positive  "
      ]
     },
     "execution_count": 49,
     "metadata": {},
     "output_type": "execute_result"
    }
   ],
   "source": [
    "def polarity(text):\n",
    "    testimonial = TextBlob(text)\n",
    "    polarity = testimonial.sentiment.polarity\n",
    "    return polarity\n",
    "\n",
    "\n",
    "def subjectivity(text):\n",
    "    testimonial = TextBlob(text)\n",
    "    subjectivity = testimonial.subjectivity\n",
    "    return subjectivity\n",
    "\n",
    "\n",
    "def senti(text, polarity_threshold=0):\n",
    "    testimonial = TextBlob(text)\n",
    "    senti = testimonial.sentiment.polarity\n",
    "    \n",
    "    if senti >= polarity_threshold:\n",
    "        return 'Positive'\n",
    "#     elif np.abs(senti) < polarity_threshold:\n",
    "#         return 'Neutral'\n",
    "    else:\n",
    "        return 'Negative'\n",
    "    \n",
    "\n",
    "tweets_data['polarity'] = tweets_data['text_nlp'].apply(lambda x: polarity(x))\n",
    "tweets_data['subjectivity'] = tweets_data['text_nlp'].apply(lambda x: subjectivity(x))\n",
    "tweets_data['sentiment'] = tweets_data['text_nlp'].apply(lambda x: senti(x))\n",
    "tweets_data.head(10)"
   ]
  },
  {
   "cell_type": "code",
   "execution_count": 10,
   "metadata": {},
   "outputs": [],
   "source": [
    "# fig, ax = plt.subplots(3, 1, figsize=(15, 15))\n",
    "# sentiments = tweets_data['sentiment'].unique()\n",
    "# for i, senti in enumerate(sentiments):\n",
    "#     senti_df = tweets_data.query('sentiment==@senti')\n",
    "#     cloud = ' '.join([tweet for tweet in senti_df['text_nlp']])\n",
    "#     wc = WordCloud(max_words=2000, width=1600, \\\n",
    "#                    height=800, stopwords=stopwords).generate(cloud)\n",
    "\n",
    "#     ax[i].set_title(senti, fontsize=25)\n",
    "#     ax[i].axis('off')\n",
    "#     ax[i].imshow(wc , interpolation = 'bilinear')\n",
    "    \n",
    "# plt.tight_layout()\n",
    "# plt.show()"
   ]
  },
  {
   "cell_type": "code",
   "execution_count": 11,
   "metadata": {},
   "outputs": [],
   "source": [
    "\n",
    "# fig, ax = plt.subplots(3, 1, figsize=(10, 8), sharey=True, sharex=True)\n",
    "\n",
    "# sentiments = tweets_data['sentiment'].unique()\n",
    "# colors = ['green', 'blue', 'red']\n",
    "# plt.suptitle('words in texts', fontsize=30)\n",
    "# for i, senti in enumerate(sentiments):\n",
    "#     senti_df = tweets_data.query('sentiment==@senti')\n",
    "#     # number of words in text\n",
    "#     # ex. 'Explain need vaccine' -> 3\n",
    "#     words_len = senti_df['text_nlp'].str.split().map(lambda x: len(x))\n",
    "#     ax[i].set_title(senti, fontsize=25)\n",
    "#     ax[i].hist(words_len, color=colors[i], bins=20)\n",
    "    \n",
    "# plt.tight_layout()\n",
    "# plt.show()"
   ]
  },
  {
   "cell_type": "code",
   "execution_count": 50,
   "metadata": {},
   "outputs": [],
   "source": [
    "def split(string):\n",
    "    return string.split(\" \")"
   ]
  },
  {
   "cell_type": "code",
   "execution_count": 64,
   "metadata": {},
   "outputs": [],
   "source": [
    "X=tweets_data['text_nlp']\n",
    "y=tweets_data['sentiment']"
   ]
  },
  {
   "cell_type": "code",
   "execution_count": 65,
   "metadata": {},
   "outputs": [],
   "source": [
    "X_train, X_test, y_train, y_test = train_test_split(X,y)"
   ]
  },
  {
   "cell_type": "code",
   "execution_count": 66,
   "metadata": {},
   "outputs": [
    {
     "name": "stdout",
     "output_type": "stream",
     "text": [
      "No. of feature_words:  18576\n"
     ]
    }
   ],
   "source": [
    "vectoriser = TfidfVectorizer()\n",
    "vectoriser.fit(X_train)\n",
    "print('No. of feature_words: ', len(vectoriser.get_feature_names()))"
   ]
  },
  {
   "cell_type": "code",
   "execution_count": 67,
   "metadata": {},
   "outputs": [],
   "source": [
    "X_train = vectoriser.transform(X_train)\n",
    "X_test  = vectoriser.transform(X_test)"
   ]
  },
  {
   "cell_type": "code",
   "execution_count": 18,
   "metadata": {},
   "outputs": [],
   "source": [
    "# from sklearn.feature_extraction.text import TfidfVectorizer\n",
    "# corpus = [\n",
    "#      'This is the first document.',\n",
    "#      'This document is the second document.',\n",
    "#      'And this is the third one.',\n",
    "#      'Is this the first document?']\n",
    "# vectorizer = TfidfVectorizer()\n",
    "# X = vectorizer.fit_transform(corpus)\n",
    "# print(X)\n"
   ]
  },
  {
   "cell_type": "code",
   "execution_count": 19,
   "metadata": {},
   "outputs": [
    {
     "data": {
      "text/plain": [
       "(25287, 18553)"
      ]
     },
     "execution_count": 19,
     "metadata": {},
     "output_type": "execute_result"
    }
   ],
   "source": [
    "X_train.shape"
   ]
  },
  {
   "cell_type": "code",
   "execution_count": 20,
   "metadata": {},
   "outputs": [
    {
     "data": {
      "text/plain": [
       "32836    0.250000\n",
       "22146   -0.100000\n",
       "22190   -0.316667\n",
       "17772    0.000000\n",
       "21085    0.000000\n",
       "           ...   \n",
       "4376     0.000000\n",
       "9695     0.000000\n",
       "17263    0.250000\n",
       "17082    0.000000\n",
       "937      0.000000\n",
       "Name: polarity, Length: 25287, dtype: float64"
      ]
     },
     "execution_count": 20,
     "metadata": {},
     "output_type": "execute_result"
    }
   ],
   "source": [
    "y_train"
   ]
  },
  {
   "cell_type": "code",
   "execution_count": 79,
   "metadata": {},
   "outputs": [],
   "source": [
    "def model_Evaluate(model):\n",
    "    # Predict values for Test dataset\n",
    "    y_pred = model.predict(X_test)\n",
    "    # Print the evaluation metrics for the dataset.\n",
    "    print(classification_report(y_test, y_pred))\n",
    "    # Compute and plot the Confusion matrix\n",
    "    cf_matrix = confusion_matrix(y_pred, y_test)\n",
    "#     print(cf_matrix)\n",
    "    categories = ['Negative','Positive']\n",
    "    group_names = ['True Neg ','False Pos ', 'False Neg ','True Pos ']\n",
    "    group_percentages = ['{0:.2%}'.format(value) for value in cf_matrix.flatten() / np.sum(cf_matrix)]\n",
    "    labels = [f'{v1} n {v2}' for v1, v2 in zip(group_names,group_percentages)]\n",
    "    labels = np.asarray(labels).reshape(2,2)\n",
    "    sns.heatmap(cf_matrix, annot = labels, cmap = 'Blues',fmt = '',\n",
    "    xticklabels = categories, yticklabels = categories)\n",
    "    plt.xlabel(\"Predicted values\", fontdict = {'size':14}, labelpad = 10)\n",
    "    plt.ylabel(\"Actual values\" , fontdict = {'size':14}, labelpad = 10)\n",
    "    plt.title (\"Confusion Matrix\", fontdict = {'size':18}, pad = 20)"
   ]
  },
  {
   "cell_type": "code",
   "execution_count": 80,
   "metadata": {
    "scrolled": true
   },
   "outputs": [],
   "source": [
    "# y_train=y_train.astype('int')\n",
    "# y_test=y_test.astype('int')"
   ]
  },
  {
   "cell_type": "code",
   "execution_count": 81,
   "metadata": {},
   "outputs": [
    {
     "name": "stdout",
     "output_type": "stream",
     "text": [
      "              precision    recall  f1-score   support\n",
      "\n",
      "    Negative       0.74      0.19      0.31       952\n",
      "    Positive       0.91      0.99      0.95      7478\n",
      "\n",
      "    accuracy                           0.90      8430\n",
      "   macro avg       0.83      0.59      0.63      8430\n",
      "weighted avg       0.89      0.90      0.87      8430\n",
      "\n",
      "Test Accuracy: 0.9014\n"
     ]
    },
    {
     "data": {
      "image/png": "[encoded data removed]",
      "text/plain": [
       "<Figure size 432x288 with 2 Axes>"
      ]
     },
     "metadata": {
      "needs_background": "light"
     },
     "output_type": "display_data"
    }
   ],
   "source": [
    "BNBmodel = BernoulliNB()\n",
    "BNBmodel.fit(X_train, y_train)\n",
    "model_Evaluate(BNBmodel)\n",
    "y_pred1 = BNBmodel.predict(X_test)\n",
    "print(\"Test Accuracy: %0.4f\" % BNBmodel.score(X_test, y_test))"
   ]
  },
  {
   "cell_type": "code",
   "execution_count": 82,
   "metadata": {},
   "outputs": [
    {
     "name": "stdout",
     "output_type": "stream",
     "text": [
      "              precision    recall  f1-score   support\n",
      "\n",
      "    Negative       0.88      0.70      0.78       952\n",
      "    Positive       0.96      0.99      0.98      7478\n",
      "\n",
      "    accuracy                           0.96      8430\n",
      "   macro avg       0.92      0.84      0.88      8430\n",
      "weighted avg       0.95      0.96      0.95      8430\n",
      "\n",
      "Test Accuracy: 0.9553\n"
     ]
    },
    {
     "data": {
      "image/png": "[encoded data removed]",
      "text/plain": [
       "<Figure size 432x288 with 2 Axes>"
      ]
     },
     "metadata": {
      "needs_background": "light"
     },
     "output_type": "display_data"
    }
   ],
   "source": [
    "SVCmodel = LinearSVC()\n",
    "SVCmodel.fit(X_train, y_train)\n",
    "model_Evaluate(SVCmodel)\n",
    "y_pred2 = SVCmodel.predict(X_test)\n",
    "print(\"Test Accuracy: %0.4f\" % SVCmodel.score(X_test, y_test))"
   ]
  },
  {
   "cell_type": "code",
   "execution_count": 86,
   "metadata": {},
   "outputs": [
    {
     "name": "stdout",
     "output_type": "stream",
     "text": [
      "              precision    recall  f1-score   support\n",
      "\n",
      "    Negative       0.89      0.39      0.54       952\n",
      "    Positive       0.93      0.99      0.96      7478\n",
      "\n",
      "    accuracy                           0.93      8430\n",
      "   macro avg       0.91      0.69      0.75      8430\n",
      "weighted avg       0.92      0.93      0.91      8430\n",
      "\n",
      "Test Accuracy: 0.9254\n"
     ]
    },
    {
     "data": {
      "image/png": "[encoded data removed]",
      "text/plain": [
       "<Figure size 432x288 with 2 Axes>"
      ]
     },
     "metadata": {
      "needs_background": "light"
     },
     "output_type": "display_data"
    }
   ],
   "source": [
    "LRmodel = LogisticRegression(C = 2, max_iter = 1000, n_jobs=-1)\n",
    "LRmodel.fit(X_train, y_train)\n",
    "model_Evaluate(LRmodel)\n",
    "y_pred3 = LRmodel.predict(X_test)\n",
    "print(\"Test Accuracy: %0.4f\" % LRmodel.score(X_test, y_test))"
   ]
  },
  {
   "cell_type": "code",
   "execution_count": null,
   "metadata": {},
   "outputs": [],
   "source": []
  }
 ],
 "metadata": {
  "kernelspec": {
   "display_name": "Python 3",
   "language": "python",
   "name": "python3"
  },
  "language_info": {
   "codemirror_mode": {
    "name": "ipython",
    "version": 3
   },
   "file_extension": ".py",
   "mimetype": "text/x-python",
   "name": "python",
   "nbconvert_exporter": "python",
   "pygments_lexer": "ipython3",
   "version": "3.8.5"
  }
 },
 "nbformat": 4,
 "nbformat_minor": 4
}
